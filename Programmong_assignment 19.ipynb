{
 "cells": [
  {
   "cell_type": "markdown",
   "id": "1c54d0a4",
   "metadata": {},
   "source": [
    "### Question1\n",
    "### Create a function that takes a string and returns a string in which each character is repeated once.\n",
    "\n",
    "Examples\n",
    "\n",
    "double_char(&quot;String&quot;) ➞ &quot;SSttrriinngg&quot;\n",
    "\n",
    "double_char(&quot;Hello World!&quot;) ➞ &quot;HHeelllloo WWoorrlldd!!&quot;\n",
    "\n",
    "double_char(&quot;1234!_ &quot;) ➞ &quot;11223344!!__ &quot;"
   ]
  },
  {
   "cell_type": "code",
   "execution_count": 3,
   "id": "594d6c21",
   "metadata": {},
   "outputs": [
    {
     "name": "stdout",
     "output_type": "stream",
     "text": [
      "SSttrriinngg\n"
     ]
    }
   ],
   "source": [
    "def double(str):\n",
    "    return \"\".join([c+c for c in str])\n",
    "print(double(\"String\"))\n",
    "    "
   ]
  },
  {
   "cell_type": "code",
   "execution_count": 4,
   "id": "ba73bae5",
   "metadata": {},
   "outputs": [
    {
     "name": "stdout",
     "output_type": "stream",
     "text": [
      "enter string: Hello World!\n",
      "HHeelllloo  WWoorrlldd!!\n"
     ]
    }
   ],
   "source": [
    "def double(str):\n",
    "    return \"\".join([c+c for c in str])\n",
    "n=str(input('enter string: '))\n",
    "print(double(n))"
   ]
  },
  {
   "cell_type": "code",
   "execution_count": 5,
   "id": "3d66ca8d",
   "metadata": {},
   "outputs": [
    {
     "name": "stdout",
     "output_type": "stream",
     "text": [
      "enter string: 1234!_\n",
      "11223344!!__\n"
     ]
    }
   ],
   "source": [
    "def double(str):\n",
    "    return \"\".join([c+c for c in str])\n",
    "n=str(input('enter string: '))\n",
    "print(double(n))"
   ]
  },
  {
   "cell_type": "markdown",
   "id": "305c638c",
   "metadata": {},
   "source": [
    "### Question2\n",
    "Create a function that reverses a boolean value and returns the string &quot;boolean expected&quot;if another variable type is given.\n",
    "\n",
    "Examples\n",
    "\n",
    "reverse(True) ➞ False\n",
    "\n",
    "reverse(False) ➞ True\n",
    "\n",
    "reverse(0) ➞ &quot;boolean expected&quot;\n",
    "\n",
    "reverse(None) ➞ &quot;boolean expected&quot;"
   ]
  },
  {
   "cell_type": "code",
   "execution_count": 6,
   "id": "aff0623c",
   "metadata": {},
   "outputs": [
    {
     "name": "stdout",
     "output_type": "stream",
     "text": [
      "False\n"
     ]
    }
   ],
   "source": [
    "def reverse(arr=None):\n",
    "    return not arr if type(arr)==bool else \"boolean expected\"\n",
    "print(reverse(True))\n",
    "    "
   ]
  },
  {
   "cell_type": "code",
   "execution_count": 7,
   "id": "0a61d857",
   "metadata": {},
   "outputs": [
    {
     "name": "stdout",
     "output_type": "stream",
     "text": [
      "boolean expected\n"
     ]
    }
   ],
   "source": [
    "def reverse(arr=None):\n",
    "    return not arr if type(arr)==bool else \"boolean expected\"\n",
    "print(reverse(0))"
   ]
  },
  {
   "cell_type": "markdown",
   "id": "f4671daa",
   "metadata": {},
   "source": [
    "### Question3\n",
    "Create a function that returns the thickness (in meters) of a piece of paper after folding it n\n",
    "number of times. The paper starts off with a thickness of 0.5mm.\n",
    "Examples\n",
    "num_layers(1) ➞ &quot;0.001m&quot;\n",
    "## Paper folded once is 1mm (equal to 0.001m)\n",
    "num_layers(4) ➞ &quot;0.008m&quot;\n",
    "## Paper folded 4 times is 8mm (equal to 0.008m)\n",
    "num_layers(21) ➞ &quot;1048.576m&quot;\n",
    "## Paper folded 21 times is 1048576mm (equal to 1048.576m)"
   ]
  },
  {
   "cell_type": "code",
   "execution_count": 13,
   "id": "8ccfeaee",
   "metadata": {},
   "outputs": [
    {
     "name": "stdout",
     "output_type": "stream",
     "text": [
      "enter number: 1\n",
      "0.001m\n",
      "0.008m\n"
     ]
    }
   ],
   "source": [
    "def num_layers(n):\n",
    "    thickness=0.5\n",
    "    for _ in range(n):\n",
    "        thickness*=2\n",
    "    return str(thickness/1000)+'m'\n",
    "\n",
    "x=int(input('enter number: '))\n",
    "print(num_layers(x))\n",
    "print(num_layers(4))"
   ]
  },
  {
   "cell_type": "markdown",
   "id": "1e843c60",
   "metadata": {},
   "source": [
    "### Question4\n",
    "#### Create a function that takes a single string as argument and returns an ordered list containing the indices of all capital letters in the string.\n",
    "\n",
    "Examples\n",
    "\n",
    "index_of_caps(&quot;eDaBiT&quot;) ➞ [1, 3, 5]\n",
    "\n",
    "index_of_caps(&quot;eQuINoX&quot;) ➞ [1, 3, 4, 6]\n",
    "\n",
    "index_of_caps(&quot;determine&quot;) ➞ []\n",
    "\n",
    "index_of_caps(&quot;STRIKE&quot;) ➞ [0, 1, 2, 3, 4, 5]\n",
    "\n",
    "index_of_caps(&quot;sUn&quot;) ➞ [1]"
   ]
  },
  {
   "cell_type": "code",
   "execution_count": 22,
   "id": "03daf3aa",
   "metadata": {},
   "outputs": [
    {
     "name": "stdout",
     "output_type": "stream",
     "text": [
      "[1, 3, 5]\n",
      "[1, 3, 4, 6]\n",
      "[]\n",
      "[0, 1, 2, 3, 4, 5]\n",
      "[1]\n"
     ]
    }
   ],
   "source": [
    "def isupper(str):\n",
    "    index=[]\n",
    "    for i in range(len(str)):\n",
    "        if str[i].isupper():\n",
    "            index.append(i)\n",
    "    return index\n",
    "print(isupper('eDaBiT'))\n",
    "print(isupper('eQuINoX'))\n",
    "print(isupper('determine'))\n",
    "print(isupper('STRIKE'))\n",
    "print(isupper('sUn'))"
   ]
  },
  {
   "cell_type": "markdown",
   "id": "9f666d13",
   "metadata": {},
   "source": [
    "### Question5\n",
    "#### Using list comprehensions, create a function that finds all even numbers from 1 to the given number.\n",
    "\n",
    "Examples\n",
    "\n",
    "find_even_nums(8) ➞ [2, 4, 6, 8]\n",
    "\n",
    "find_even_nums(4) ➞ [2, 4]\n",
    "\n",
    "find_even_nums(2) ➞ [2]"
   ]
  },
  {
   "cell_type": "code",
   "execution_count": 23,
   "id": "5c2486af",
   "metadata": {},
   "outputs": [
    {
     "name": "stdout",
     "output_type": "stream",
     "text": [
      "enter number: 10\n"
     ]
    },
    {
     "data": {
      "text/plain": [
       "[2, 4, 6, 8, 10]"
      ]
     },
     "execution_count": 23,
     "metadata": {},
     "output_type": "execute_result"
    }
   ],
   "source": [
    "def even_num(n):\n",
    "    even=[x for x in range(2,n+1) if x%2==0]\n",
    "    return even\n",
    "\n",
    "n=int(input('enter number: '))\n",
    "even_num(n)"
   ]
  },
  {
   "cell_type": "code",
   "execution_count": 24,
   "id": "b6148e3e",
   "metadata": {},
   "outputs": [
    {
     "name": "stdout",
     "output_type": "stream",
     "text": [
      "enter number: 8\n"
     ]
    },
    {
     "data": {
      "text/plain": [
       "[2, 4, 6, 8]"
      ]
     },
     "execution_count": 24,
     "metadata": {},
     "output_type": "execute_result"
    }
   ],
   "source": [
    "def even_num(n):\n",
    "    even=[x for x in range(2,n+1) if x%2==0]\n",
    "    return even\n",
    "\n",
    "n=int(input('enter number: '))\n",
    "even_num(n)"
   ]
  },
  {
   "cell_type": "code",
   "execution_count": 25,
   "id": "516ea2d8",
   "metadata": {},
   "outputs": [
    {
     "name": "stdout",
     "output_type": "stream",
     "text": [
      "enter number: 4\n"
     ]
    },
    {
     "data": {
      "text/plain": [
       "[2, 4]"
      ]
     },
     "execution_count": 25,
     "metadata": {},
     "output_type": "execute_result"
    }
   ],
   "source": [
    "def even_num(n):\n",
    "    even=[x for x in range(2,n+1) if x%2==0]\n",
    "    return even\n",
    "\n",
    "n=int(input('enter number: '))\n",
    "even_num(n)"
   ]
  },
  {
   "cell_type": "code",
   "execution_count": 26,
   "id": "535b56d5",
   "metadata": {},
   "outputs": [
    {
     "name": "stdout",
     "output_type": "stream",
     "text": [
      "enter number: 2\n"
     ]
    },
    {
     "data": {
      "text/plain": [
       "[2]"
      ]
     },
     "execution_count": 26,
     "metadata": {},
     "output_type": "execute_result"
    }
   ],
   "source": [
    "def even_num(n):\n",
    "    even=[x for x in range(2,n+1) if x%2==0]\n",
    "    return even\n",
    "\n",
    "n=int(input('enter number: '))\n",
    "even_num(n)"
   ]
  },
  {
   "cell_type": "code",
   "execution_count": null,
   "id": "6c21e42e",
   "metadata": {},
   "outputs": [],
   "source": []
  }
 ],
 "metadata": {
  "kernelspec": {
   "display_name": "Python 3 (ipykernel)",
   "language": "python",
   "name": "python3"
  },
  "language_info": {
   "codemirror_mode": {
    "name": "ipython",
    "version": 3
   },
   "file_extension": ".py",
   "mimetype": "text/x-python",
   "name": "python",
   "nbconvert_exporter": "python",
   "pygments_lexer": "ipython3",
   "version": "3.9.13"
  }
 },
 "nbformat": 4,
 "nbformat_minor": 5
}
