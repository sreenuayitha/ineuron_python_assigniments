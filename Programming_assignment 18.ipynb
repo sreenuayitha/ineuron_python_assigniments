{
 "cells": [
  {
   "cell_type": "markdown",
   "id": "21a8a757",
   "metadata": {},
   "source": [
    "### Question 1\n",
    "### Create a function that takes a list of non-negative integers and strings and return a new list without the strings."
   ]
  },
  {
   "cell_type": "markdown",
   "id": "7f53f99b",
   "metadata": {},
   "source": [
    "### Examples\n",
    "\n",
    "filter_list([1, 2, &quot;a&quot;, &quot;b&quot;]) ➞ [1, 2]\n",
    "\n",
    "filter_list([1, &quot;a&quot;, &quot;b&quot;, 0, 15]) ➞ [1, 0, 15]\n",
    "\n",
    "filter_list([1, 2, &quot;aasf&quot;, &quot;1&quot;, &quot;123&quot;, 123]) ➞ [1, 2, 123]"
   ]
  },
  {
   "cell_type": "code",
   "execution_count": 2,
   "id": "f39116b8",
   "metadata": {},
   "outputs": [
    {
     "name": "stdout",
     "output_type": "stream",
     "text": [
      "[1, 2, 3]\n"
     ]
    }
   ],
   "source": [
    "l1=[1,2,3,'a','b','c','3']\n",
    "\n",
    "def filter(l1):\n",
    "    new_list=[]\n",
    "    for i in l1:\n",
    "        if type(i)==int:\n",
    "            new_list.append(i)\n",
    "    return new_list\n",
    "\n",
    "print(filter(l1))"
   ]
  },
  {
   "cell_type": "code",
   "execution_count": 3,
   "id": "8184e93f",
   "metadata": {},
   "outputs": [
    {
     "name": "stdout",
     "output_type": "stream",
     "text": [
      "[1, 0, 15]\n"
     ]
    }
   ],
   "source": [
    "l2=[1, \"a\", \"b\", 0, 15]\n",
    "\n",
    "def filter(l2):\n",
    "    new_list=[]\n",
    "    for i in l2:\n",
    "        if type(i)==int:\n",
    "            new_list.append(i)\n",
    "    return new_list\n",
    "\n",
    "print(filter(l2))"
   ]
  },
  {
   "cell_type": "markdown",
   "id": "f0ef182c",
   "metadata": {},
   "source": [
    "### Question 2\n",
    "### The &quot;Reverser&quot; takes a string as input and returns that string in reverse order, with the opposite case."
   ]
  },
  {
   "cell_type": "markdown",
   "id": "ef7b2ac0",
   "metadata": {},
   "source": [
    "### Examples\n",
    "\n",
    "reverse(&quot;Hello World&quot;) ➞ &quot;DLROw OLLEh&quot;\n",
    "\n",
    "reverse(&quot;ReVeRsE&quot;) ➞ &quot;eSrEvEr&quot;\n",
    "\n",
    "reverse(&quot;Radar&quot;) ➞ &quot;RADAr&quot;"
   ]
  },
  {
   "cell_type": "code",
   "execution_count": 5,
   "id": "83ec6cec",
   "metadata": {},
   "outputs": [
    {
     "name": "stdout",
     "output_type": "stream",
     "text": [
      "eSREVEr\n"
     ]
    }
   ],
   "source": [
    "def reverse(str):\n",
    "    str=str[::-1]\n",
    "    return str.swapcase()\n",
    "print(reverse('ReversE'))"
   ]
  },
  {
   "cell_type": "code",
   "execution_count": 6,
   "id": "c368ae1d",
   "metadata": {},
   "outputs": [
    {
     "name": "stdout",
     "output_type": "stream",
     "text": [
      "DLROw OLLEh\n"
     ]
    }
   ],
   "source": [
    "def reverse(str):\n",
    "    str=str[::-1]\n",
    "    return str.swapcase()\n",
    "print(reverse(\"Hello World\"))"
   ]
  },
  {
   "cell_type": "code",
   "execution_count": 7,
   "id": "3871a026",
   "metadata": {},
   "outputs": [
    {
     "name": "stdout",
     "output_type": "stream",
     "text": [
      "RADAr\n"
     ]
    }
   ],
   "source": [
    "def reverse(str):\n",
    "    str=str[::-1]\n",
    "    return str.swapcase()\n",
    "print(reverse(\"Radar\"))"
   ]
  },
  {
   "cell_type": "markdown",
   "id": "0c0cd8fc",
   "metadata": {},
   "source": [
    "### Question 3\n",
    "You can assign variables from lists like this:\n",
    "\n",
    "lst = [1, 2, 3, 4, 5, 6]\n",
    "\n",
    "first = lst[0]\n",
    "\n",
    "middle = lst[1:-1]\n",
    "\n",
    "last = lst[-1]\n",
    "\n",
    "print(first) ➞ outputs 1\n",
    "\n",
    "print(middle) ➞ outputs [2, 3, 4, 5]\n",
    "\n",
    "print(last) ➞ outputs 6\n",
    "\n",
    "With Python 3, you can assign variables from lists in a much more succinct way. Create\n",
    "variables first, middle and last from the given list using destructuring assignment\n",
    "(check the Resources tab for some examples), \n",
    "\n",
    "where:\n",
    "\n",
    "first ➞ 1\n",
    "\n",
    "middle ➞ [2, 3, 4, 5]\n",
    "\n",
    "last ➞ 6"
   ]
  },
  {
   "cell_type": "code",
   "execution_count": 8,
   "id": "6405c823",
   "metadata": {},
   "outputs": [
    {
     "data": {
      "text/plain": [
       "1"
      ]
     },
     "execution_count": 8,
     "metadata": {},
     "output_type": "execute_result"
    }
   ],
   "source": [
    "lst=[1,2,3,4,5,6]\n",
    "first,*middle,last=lst\n",
    "first"
   ]
  },
  {
   "cell_type": "code",
   "execution_count": 9,
   "id": "994d5606",
   "metadata": {},
   "outputs": [
    {
     "data": {
      "text/plain": [
       "[2, 3, 4, 5]"
      ]
     },
     "execution_count": 9,
     "metadata": {},
     "output_type": "execute_result"
    }
   ],
   "source": [
    "middle"
   ]
  },
  {
   "cell_type": "code",
   "execution_count": 10,
   "id": "cbedd902",
   "metadata": {},
   "outputs": [
    {
     "data": {
      "text/plain": [
       "6"
      ]
     },
     "execution_count": 10,
     "metadata": {},
     "output_type": "execute_result"
    }
   ],
   "source": [
    "last"
   ]
  },
  {
   "cell_type": "markdown",
   "id": "4936f5cb",
   "metadata": {},
   "source": [
    "### Question 4\n",
    "\n",
    "### Write a function that calculates the factorial of a number recursively.\n",
    "\n",
    "Examples\n",
    "\n",
    "factorial(5) ➞ 120\n",
    "\n",
    "factorial(3) ➞ 6\n",
    "\n",
    "factorial(1) ➞ 1\n",
    "\n",
    "factorial(0) ➞ 1"
   ]
  },
  {
   "cell_type": "code",
   "execution_count": 11,
   "id": "e9b9589f",
   "metadata": {},
   "outputs": [
    {
     "name": "stdout",
     "output_type": "stream",
     "text": [
      "enter number: 0\n",
      "factorial off 0 is 1\n"
     ]
    }
   ],
   "source": [
    "def factorial(n):\n",
    "    if n==0:\n",
    "        return 1\n",
    "    return n*factorial(n-1)\n",
    "\n",
    "n=int(input('enter number: '))\n",
    "print('factorial off',n,'is',factorial(n))"
   ]
  },
  {
   "cell_type": "code",
   "execution_count": 12,
   "id": "2d8e7fc3",
   "metadata": {},
   "outputs": [
    {
     "name": "stdout",
     "output_type": "stream",
     "text": [
      "enter number: 3\n",
      "factorial off 3 is 6\n"
     ]
    }
   ],
   "source": [
    "def factorial(n):\n",
    "    if n==0:\n",
    "        return 1\n",
    "    return n*factorial(n-1)\n",
    "\n",
    "n=int(input('enter number: '))\n",
    "print('factorial off',n,'is',factorial(n))"
   ]
  },
  {
   "cell_type": "markdown",
   "id": "0b8deada",
   "metadata": {},
   "source": [
    "### Question 5\n",
    "Write a function that moves all elements of one type to the end of the list.\n",
    "\n",
    "Examples\n",
    "\n",
    "move_to_end([1, 3, 2, 4, 4, 1], 1) ➞ [3, 2, 4, 4, 1, 1]\n",
    "### Move all the 1s to the end of the array.\n",
    "move_to_end([7, 8, 9, 1, 2, 3, 4], 9) ➞ [7, 8, 1, 2, 3, 4, 9]\n",
    "\n",
    "move_to_end([&quot;a&quot;, &quot;a&quot;, &quot;a&quot;, &quot;b&quot;], &quot;a&quot;) ➞ [&quot;b&quot;, &quot;a&quot;, &quot;a&quot;, &quot;a&quot;]"
   ]
  },
  {
   "cell_type": "code",
   "execution_count": 18,
   "id": "3f2b23d9",
   "metadata": {},
   "outputs": [],
   "source": [
    "def move_to_end(arr,tomove):\n",
    "    i=0\n",
    "    j=len(arr)-1\n",
    "    \n",
    "    \n",
    "    while(i<j):\n",
    "        \n",
    "        while(i<j and arr[j]==tomove):\n",
    "            j-=1\n",
    "            \n",
    "        if (arr[i]==tomove):\n",
    "            \n",
    "            arr[i],arr[j]=arr[j],arr[i]\n",
    "        i+=1\n",
    "    \n",
    "    return arr\n",
    "\n",
    "        "
   ]
  },
  {
   "cell_type": "code",
   "execution_count": 19,
   "id": "5d7fea34",
   "metadata": {},
   "outputs": [
    {
     "name": "stdout",
     "output_type": "stream",
     "text": [
      "7 8 4 1 2 3 9 "
     ]
    }
   ],
   "source": [
    "arr1 = [7, 8, 9, 1, 2, 3, 4]\n",
    "k = 9\n",
    "ans = move_to_end(arr1, k)\n",
    "for i in range(len(arr1)):\n",
    "    print(ans[i] ,end= \" \")"
   ]
  },
  {
   "cell_type": "code",
   "execution_count": 20,
   "id": "c92c3c2f",
   "metadata": {},
   "outputs": [
    {
     "name": "stdout",
     "output_type": "stream",
     "text": [
      "b a a a "
     ]
    }
   ],
   "source": [
    "arr2=[\"a\", \"a\", \"a\", \"b\"]\n",
    "k='a'\n",
    "ans=move_to_end(arr2,k)\n",
    "for i in range(len(arr2)):\n",
    "    print(ans[i],end=' ')"
   ]
  },
  {
   "cell_type": "code",
   "execution_count": null,
   "id": "496e4873",
   "metadata": {},
   "outputs": [],
   "source": []
  }
 ],
 "metadata": {
  "kernelspec": {
   "display_name": "Python 3 (ipykernel)",
   "language": "python",
   "name": "python3"
  },
  "language_info": {
   "codemirror_mode": {
    "name": "ipython",
    "version": 3
   },
   "file_extension": ".py",
   "mimetype": "text/x-python",
   "name": "python",
   "nbconvert_exporter": "python",
   "pygments_lexer": "ipython3",
   "version": "3.9.13"
  }
 },
 "nbformat": 4,
 "nbformat_minor": 5
}
