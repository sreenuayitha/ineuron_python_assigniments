{
 "cells": [
  {
   "cell_type": "markdown",
   "id": "6727e946",
   "metadata": {},
   "source": [
    "### 1. Write a Python program to find words which are greater than given length k?"
   ]
  },
  {
   "cell_type": "code",
   "execution_count": 3,
   "id": "4126f015",
   "metadata": {},
   "outputs": [
    {
     "name": "stdout",
     "output_type": "stream",
     "text": [
      "enter the sentance: iam sreenu from proddatur\n",
      "enter k value: 4\n",
      "['sreenu', 'proddatur']\n"
     ]
    }
   ],
   "source": [
    "def findwords(k,str):\n",
    "    txt=str.split()\n",
    "    listwords=[]\n",
    "    for i in txt:\n",
    "        if len(i)>k:\n",
    "            listwords.append(i)\n",
    "    return listwords\n",
    "\n",
    "str=input('enter the sentance: ')\n",
    "k=int(input('enter k value: '))\n",
    "\n",
    "listofwords=findwords(k,str)\n",
    "\n",
    "print(listofwords)"
   ]
  },
  {
   "cell_type": "markdown",
   "id": "48dfb442",
   "metadata": {},
   "source": [
    "### 2. Write a Python program for removing i-th character from a string?"
   ]
  },
  {
   "cell_type": "code",
   "execution_count": 9,
   "id": "2cc612c0",
   "metadata": {},
   "outputs": [
    {
     "name": "stdout",
     "output_type": "stream",
     "text": [
      "enter str: abcdefghij\n",
      "i-th value: 4\n",
      "\n",
      "the new string:  abcdfghij\n"
     ]
    }
   ],
   "source": [
    "def remove(str,i):\n",
    "    for j in range(len(str)):\n",
    "        if j==i:\n",
    "            str=str.replace(str[i],'',1)\n",
    "    return str\n",
    "str=input('enter str: ')\n",
    "i=int(input('i-th value: '))\n",
    "\n",
    "print(\"\\nthe new string: \",remove(str,i))"
   ]
  },
  {
   "cell_type": "markdown",
   "id": "664185fd",
   "metadata": {},
   "source": [
    "### 3. Write a Python program to split and join a string?"
   ]
  },
  {
   "cell_type": "code",
   "execution_count": 19,
   "id": "f7356c22",
   "metadata": {},
   "outputs": [
    {
     "name": "stdout",
     "output_type": "stream",
     "text": [
      "['hi', 'hello', 'good', 'morning']\n",
      "hi-hello-good-morning\n"
     ]
    }
   ],
   "source": [
    "x=('hi hello good morning')\n",
    "z=x.split(' ')\n",
    "print(z)\n",
    "\n",
    "y='-'.join(z)\n",
    "print(y)"
   ]
  },
  {
   "cell_type": "markdown",
   "id": "4c33efa8",
   "metadata": {},
   "source": [
    "### 4. Write a Python to check if a given string is binary string or not?"
   ]
  },
  {
   "cell_type": "code",
   "execution_count": 24,
   "id": "31948a5d",
   "metadata": {},
   "outputs": [
    {
     "name": "stdout",
     "output_type": "stream",
     "text": [
      "enter the sentance: sreenu\n",
      "not binary\n"
     ]
    }
   ],
   "source": [
    "def check(n):\n",
    "    binary='0'or'1'\n",
    "    for i in range(len(n)):\n",
    "        if n[i] not in binary:\n",
    "            print('not binary')\n",
    "            break\n",
    "    else:\n",
    "        print('its binary')\n",
    "        \n",
    "n=input('enter the sentance: ')\n",
    "check(n)\n"
   ]
  },
  {
   "cell_type": "code",
   "execution_count": 39,
   "id": "ab723704",
   "metadata": {},
   "outputs": [
    {
     "name": "stdout",
     "output_type": "stream",
     "text": [
      "enter the sentance: 01\n",
      "its binary\n"
     ]
    }
   ],
   "source": [
    "def check(n):\n",
    "    binary='01'\n",
    "    for i in range(len(n)):\n",
    "        if n[i] not in binary:\n",
    "            print('not binary')\n",
    "            break\n",
    "    else:\n",
    "        print('its binary')\n",
    "        \n",
    "n=input('enter the sentance: ')\n",
    "check(n)"
   ]
  },
  {
   "cell_type": "markdown",
   "id": "6b571e54",
   "metadata": {},
   "source": [
    "### 5. Write a Python program to find uncommon words from two Strings?"
   ]
  },
  {
   "cell_type": "code",
   "execution_count": 44,
   "id": "12e96b01",
   "metadata": {},
   "outputs": [
    {
     "name": "stdout",
     "output_type": "stream",
     "text": [
      "enter the string a: happy birthday prasanna\n",
      "enter the string b: happy birthday sreenu\n",
      "the uncommon strings:   prasanna sreenu\n"
     ]
    }
   ],
   "source": [
    "def uncommon(a,b):\n",
    "    list_a=a.split()\n",
    "    list_b=b.split()\n",
    "    uncom=''\n",
    "    for i in list_a:\n",
    "        if i not in list_b:\n",
    "            uncom=uncom+' '+i\n",
    "    \n",
    "    for j in list_b:\n",
    "        if j not in list_a:\n",
    "            uncom=uncom+' '+j\n",
    "            \n",
    "    return uncom\n",
    "a=input('enter the string a: ')\n",
    "b=input('enter the string b: ')\n",
    "print('the uncommon strings: ',uncommon(a,b))"
   ]
  },
  {
   "cell_type": "markdown",
   "id": "be0708cf",
   "metadata": {},
   "source": [
    "### 6. Write a Python to find all duplicate characters in string?"
   ]
  },
  {
   "cell_type": "code",
   "execution_count": 45,
   "id": "96002f14",
   "metadata": {},
   "outputs": [
    {
     "name": "stdout",
     "output_type": "stream",
     "text": [
      "enter string: hi hello good morning!\n"
     ]
    },
    {
     "data": {
      "text/plain": [
       "['h', 'i', ' ', 'l', 'o', 'g', 'n']"
      ]
     },
     "execution_count": 45,
     "metadata": {},
     "output_type": "execute_result"
    }
   ],
   "source": [
    "n=input('enter string: ').lower()\n",
    "duplic=[]\n",
    "\n",
    "for i in n:\n",
    "    if n.count(i)>1:\n",
    "        if i not in duplic:\n",
    "            duplic.append(i)\n",
    "duplic"
   ]
  },
  {
   "cell_type": "markdown",
   "id": "4e4a4f55",
   "metadata": {},
   "source": [
    "### 7. Write a Python Program to check if a string contains any special character?"
   ]
  },
  {
   "cell_type": "code",
   "execution_count": 46,
   "id": "e56bdda2",
   "metadata": {},
   "outputs": [
    {
     "name": "stdout",
     "output_type": "stream",
     "text": [
      "Enter the string a : sreenu/@123\n",
      "String sreenu/@123 has special charecter/s : ['/', '@']\n"
     ]
    }
   ],
   "source": [
    "import string\n",
    "\n",
    "string_char = string.punctuation\n",
    "spChar = []\n",
    "\n",
    "str = input(\"Enter the string a : \").lower()\n",
    "for i in str:\n",
    "    if i in string_char:\n",
    "        spChar.append(i)\n",
    "if len(spChar) > 0:\n",
    "    print(\"String {} has special charecter/s : {}\".format(str,spChar))"
   ]
  },
  {
   "cell_type": "code",
   "execution_count": null,
   "id": "962f18fc",
   "metadata": {},
   "outputs": [],
   "source": []
  }
 ],
 "metadata": {
  "kernelspec": {
   "display_name": "Python 3 (ipykernel)",
   "language": "python",
   "name": "python3"
  },
  "language_info": {
   "codemirror_mode": {
    "name": "ipython",
    "version": 3
   },
   "file_extension": ".py",
   "mimetype": "text/x-python",
   "name": "python",
   "nbconvert_exporter": "python",
   "pygments_lexer": "ipython3",
   "version": "3.9.13"
  }
 },
 "nbformat": 4,
 "nbformat_minor": 5
}
