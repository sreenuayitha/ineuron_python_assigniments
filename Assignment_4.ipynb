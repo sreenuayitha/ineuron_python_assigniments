{
 "cells": [
  {
   "cell_type": "markdown",
   "id": "0cad1199",
   "metadata": {},
   "source": [
    "### 1. What exactly is [ ]?"
   ]
  },
  {
   "cell_type": "markdown",
   "id": "a646649f",
   "metadata": {},
   "source": [
    "The empty list value, which is a list value that contains no items. This is similar to how '' is the empty string value."
   ]
  },
  {
   "cell_type": "markdown",
   "id": "c12ea5b4",
   "metadata": {},
   "source": [
    "### 2. In a list of values stored in a variable called spam, how would you assign the value &#39;hello&#39; as the third value? (Assume [2, 4, 6, 8, 10] are in spam.)"
   ]
  },
  {
   "cell_type": "code",
   "execution_count": 2,
   "id": "43713193",
   "metadata": {},
   "outputs": [
    {
     "name": "stdout",
     "output_type": "stream",
     "text": [
      "[2, 4, 6, 8, 10]\n"
     ]
    }
   ],
   "source": [
    "spam=[2,4,6,8,10]    # list of a spam variable\n",
    "print(spam)"
   ]
  },
  {
   "cell_type": "code",
   "execution_count": 4,
   "id": "91827d37",
   "metadata": {},
   "outputs": [
    {
     "name": "stdout",
     "output_type": "stream",
     "text": [
      "[2, 4, 'Hello', 8, 10]\n"
     ]
    }
   ],
   "source": [
    "spam[2]='Hello'   # we added in the postions of 2\n",
    "print(spam)"
   ]
  },
  {
   "cell_type": "markdown",
   "id": "88581768",
   "metadata": {},
   "source": [
    "### Let&#39;s pretend the spam includes the list [&#39;a&#39;, &#39;b&#39;, &#39;c&#39;, &#39;d&#39;] for the next three queries."
   ]
  },
  {
   "cell_type": "markdown",
   "id": "21d84679",
   "metadata": {},
   "source": [
    "### 3. What is the value of spam[int(int(&#39;3&#39; * 2) / 11)]?"
   ]
  },
  {
   "cell_type": "code",
   "execution_count": 6,
   "id": "92bb22db",
   "metadata": {},
   "outputs": [
    {
     "data": {
      "text/plain": [
       "'d'"
      ]
     },
     "execution_count": 6,
     "metadata": {},
     "output_type": "execute_result"
    }
   ],
   "source": [
    "spam=['a','b','c','d']    # here we finding the index value \n",
    "spam[int(int('3'*2)/11)]"
   ]
  },
  {
   "cell_type": "markdown",
   "id": "f455b24b",
   "metadata": {},
   "source": [
    "### 4. What is the value of spam[-1]?"
   ]
  },
  {
   "cell_type": "code",
   "execution_count": 8,
   "id": "a7954150",
   "metadata": {},
   "outputs": [
    {
     "data": {
      "text/plain": [
       "'d'"
      ]
     },
     "execution_count": 8,
     "metadata": {},
     "output_type": "execute_result"
    }
   ],
   "source": [
    "spam[-1]   # negative index on a list"
   ]
  },
  {
   "cell_type": "markdown",
   "id": "20958fea",
   "metadata": {},
   "source": [
    "### 5. What is the value of spam[:2]?"
   ]
  },
  {
   "cell_type": "code",
   "execution_count": 10,
   "id": "7b11212d",
   "metadata": {},
   "outputs": [
    {
     "data": {
      "text/plain": [
       "['a', 'b']"
      ]
     },
     "execution_count": 10,
     "metadata": {},
     "output_type": "execute_result"
    }
   ],
   "source": [
    "spam[:2]    # calling 0 to postion 2-1 "
   ]
  },
  {
   "cell_type": "markdown",
   "id": "56747b46",
   "metadata": {},
   "source": [
    "### Let&#39;s pretend bacon has the list [3.14, &#39;cat,&#39; 11, &#39;cat,&#39; True] for the next three questions."
   ]
  },
  {
   "cell_type": "code",
   "execution_count": 13,
   "id": "94ed0fb3",
   "metadata": {},
   "outputs": [],
   "source": [
    "bacon=[3.14, 'cat', 11, 'cat' ,True]"
   ]
  },
  {
   "cell_type": "markdown",
   "id": "4ec4ba8e",
   "metadata": {},
   "source": [
    "### 6. What is the value of bacon.index(&#39;cat&#39;)?"
   ]
  },
  {
   "cell_type": "code",
   "execution_count": 17,
   "id": "02af30ec",
   "metadata": {},
   "outputs": [
    {
     "data": {
      "text/plain": [
       "1"
      ]
     },
     "execution_count": 17,
     "metadata": {},
     "output_type": "execute_result"
    }
   ],
   "source": [
    "bacon.index('cat')   # the position of 'cat' is 1"
   ]
  },
  {
   "cell_type": "markdown",
   "id": "fb12ea0d",
   "metadata": {},
   "source": [
    "### 7. How does bacon.append(99) change the look of the list value in bacon?"
   ]
  },
  {
   "cell_type": "code",
   "execution_count": 30,
   "id": "603aee5f",
   "metadata": {},
   "outputs": [
    {
     "name": "stdout",
     "output_type": "stream",
     "text": [
      "[3.14, 'cat', 11, 'cat', True, 99]\n"
     ]
    }
   ],
   "source": [
    "bacon.append(99)    # append the value of 99 in a list\n",
    "print(bacon)"
   ]
  },
  {
   "cell_type": "markdown",
   "id": "d21680c3",
   "metadata": {},
   "source": [
    "### 8. How does bacon.remove(&#39;cat&#39;) change the look of the list in bacon?"
   ]
  },
  {
   "cell_type": "code",
   "execution_count": 32,
   "id": "f202640b",
   "metadata": {},
   "outputs": [
    {
     "data": {
      "text/plain": [
       "[3.14, 'cat', 11, 'cat', True, 99]"
      ]
     },
     "execution_count": 32,
     "metadata": {},
     "output_type": "execute_result"
    }
   ],
   "source": [
    "bacon   # they have two 'cat'"
   ]
  },
  {
   "cell_type": "code",
   "execution_count": 33,
   "id": "b953fb6a",
   "metadata": {},
   "outputs": [],
   "source": [
    "#remove of 'cat' in a list have two methods.\n",
    "#1.bacon.remove('cat')\n",
    "#2.bacon.remove(bacon[1]) with the help of index"
   ]
  },
  {
   "cell_type": "code",
   "execution_count": 39,
   "id": "f100412f",
   "metadata": {},
   "outputs": [],
   "source": [
    "bacon.remove(bacon[1])   # with the help of index"
   ]
  },
  {
   "cell_type": "code",
   "execution_count": 40,
   "id": "331209dc",
   "metadata": {},
   "outputs": [
    {
     "data": {
      "text/plain": [
       "[3.14, 11, 'cat', True, 99]"
      ]
     },
     "execution_count": 40,
     "metadata": {},
     "output_type": "execute_result"
    }
   ],
   "source": [
    "bacon"
   ]
  },
  {
   "cell_type": "markdown",
   "id": "79b46ef1",
   "metadata": {},
   "source": [
    "### 9. What are the list concatenation and list replication operators?"
   ]
  },
  {
   "cell_type": "markdown",
   "id": "bd3451e2",
   "metadata": {},
   "source": [
    "(*) is replication operation.\n",
    "(+) is the concatenatio operation"
   ]
  },
  {
   "cell_type": "code",
   "execution_count": 42,
   "id": "c9b007b7",
   "metadata": {},
   "outputs": [
    {
     "data": {
      "text/plain": [
       "[1, 2, 3, 4, 5, 6]"
      ]
     },
     "execution_count": 42,
     "metadata": {},
     "output_type": "execute_result"
    }
   ],
   "source": [
    "list1=[1,2,3]\n",
    "list2=[4,5,6]\n",
    "list1+list2     #list of concatenatio operation"
   ]
  },
  {
   "cell_type": "code",
   "execution_count": 45,
   "id": "75771746",
   "metadata": {},
   "outputs": [
    {
     "data": {
      "text/plain": [
       "[1, 2, 3, 1, 2, 3, 1, 2, 3]"
      ]
     },
     "execution_count": 45,
     "metadata": {},
     "output_type": "execute_result"
    }
   ],
   "source": [
    "list1*3    # list of replication operation"
   ]
  },
  {
   "cell_type": "markdown",
   "id": "09b7fe0b",
   "metadata": {},
   "source": [
    "### 10. What is difference between the list methods append() and insert()?"
   ]
  },
  {
   "cell_type": "markdown",
   "id": "a929ba36",
   "metadata": {},
   "source": [
    "append() is a function in a list which addeding the values in a list at the end.\n",
    "\n",
    "insert() is a function which we added the values in a list which at specific index.\n"
   ]
  },
  {
   "cell_type": "code",
   "execution_count": 47,
   "id": "a5d8a750",
   "metadata": {},
   "outputs": [
    {
     "name": "stdout",
     "output_type": "stream",
     "text": [
      "['a', 'b', 'Hello', 'd']\n"
     ]
    }
   ],
   "source": [
    "#for example in question number 2 is a insert() method \n",
    "spam[2]='Hello'   # we added in the postions of 2\n",
    "print(spam)"
   ]
  },
  {
   "cell_type": "code",
   "execution_count": 48,
   "id": "09fd835f",
   "metadata": {},
   "outputs": [
    {
     "name": "stdout",
     "output_type": "stream",
     "text": [
      "[3.14, 11, 'cat', True, 99, 99]\n"
     ]
    }
   ],
   "source": [
    "# for example of append()\n",
    "bacon.append(99)    # append the value of 99 in a list\n",
    "print(bacon)"
   ]
  },
  {
   "cell_type": "markdown",
   "id": "018e689b",
   "metadata": {},
   "source": [
    "### 11. What are the two methods for removing items from a list?"
   ]
  },
  {
   "cell_type": "code",
   "execution_count": 49,
   "id": "9ca2f8af",
   "metadata": {},
   "outputs": [
    {
     "data": {
      "text/plain": [
       "[3.14, 11, 'cat', True]"
      ]
     },
     "execution_count": 49,
     "metadata": {},
     "output_type": "execute_result"
    }
   ],
   "source": [
    "#remove(item) - removeds first occurence of a item\n",
    "bacon = [3.14, 'cat', 11, 'cat', True]\n",
    "bacon.remove('cat')\n",
    "bacon"
   ]
  },
  {
   "cell_type": "code",
   "execution_count": 50,
   "id": "0df321ab",
   "metadata": {},
   "outputs": [
    {
     "data": {
      "text/plain": [
       "[3.14, 'cat', 11, 'cat']"
      ]
     },
     "execution_count": 50,
     "metadata": {},
     "output_type": "execute_result"
    }
   ],
   "source": [
    "#pop() - Remove and returns item at index (default last).\n",
    "bacon = [3.14, 'cat', 11, 'cat', True]\n",
    "bacon.pop()\n",
    "bacon"
   ]
  },
  {
   "cell_type": "markdown",
   "id": "b15fab43",
   "metadata": {},
   "source": [
    "### 12. Describe how list values and string values are identical."
   ]
  },
  {
   "cell_type": "code",
   "execution_count": null,
   "id": "ebcdaa63",
   "metadata": {},
   "outputs": [],
   "source": [
    "1.Both lists and strings can be passed to len()\n",
    "2.Have indexes and slices\n",
    "3.Can be used in for loops\n",
    "4.Can be concatenated or replicated\n",
    "5.Can be used with the in and not in operators"
   ]
  },
  {
   "cell_type": "markdown",
   "id": "376a08cb",
   "metadata": {},
   "source": [
    "### 13. What&#39;s the difference between tuples and lists?"
   ]
  },
  {
   "cell_type": "markdown",
   "id": "5613b44b",
   "metadata": {},
   "source": [
    "Lists : are mutable - they can have values added, removed, or changed. lists use the square brackets, [ and ]\n",
    "\n",
    "Tuples : are immutable; they cannot be changed at all. Tuples are written using parentheses, ( and )"
   ]
  },
  {
   "cell_type": "markdown",
   "id": "85d18f50",
   "metadata": {},
   "source": [
    "### 14. How do you type a tuple value that only contains the integer 42?"
   ]
  },
  {
   "cell_type": "code",
   "execution_count": 53,
   "id": "1adb9887",
   "metadata": {},
   "outputs": [],
   "source": [
    "tuple=(42,) #(The trailing comma is mandatory.)"
   ]
  },
  {
   "cell_type": "code",
   "execution_count": 54,
   "id": "64eb5ee8",
   "metadata": {},
   "outputs": [
    {
     "data": {
      "text/plain": [
       "(42,)"
      ]
     },
     "execution_count": 54,
     "metadata": {},
     "output_type": "execute_result"
    }
   ],
   "source": [
    "tuple"
   ]
  },
  {
   "cell_type": "markdown",
   "id": "46f483a9",
   "metadata": {},
   "source": [
    "### 15. How do you get a list value&#39;s tuple form? How do you get a tuple value&#39;s list form?"
   ]
  },
  {
   "cell_type": "code",
   "execution_count": 66,
   "id": "2e1a2c0f",
   "metadata": {},
   "outputs": [
    {
     "data": {
      "text/plain": [
       "[3, 4]"
      ]
     },
     "execution_count": 66,
     "metadata": {},
     "output_type": "execute_result"
    }
   ],
   "source": [
    "t1 = (3,4)\n",
    "t = list(t1)\n",
    "t"
   ]
  },
  {
   "cell_type": "markdown",
   "id": "f7c8c71c",
   "metadata": {},
   "source": [
    "The tuple() and list() functions, respectively"
   ]
  },
  {
   "cell_type": "markdown",
   "id": "75e42057",
   "metadata": {},
   "source": [
    "### 16. Variables that &quot;contain&quot; list values are not necessarily lists themselves. Instead, what do they contain?"
   ]
  },
  {
   "cell_type": "markdown",
   "id": "8f417751",
   "metadata": {},
   "source": [
    "Ans. They contain references to list values"
   ]
  },
  {
   "cell_type": "markdown",
   "id": "95442685",
   "metadata": {},
   "source": [
    "### 17. How do you distinguish between copy.copy() and copy.deepcopy()?"
   ]
  },
  {
   "cell_type": "markdown",
   "id": "824cea48",
   "metadata": {},
   "source": [
    "Ans . The copy.copy() function will do a shallow copy of a list,\n",
    "\n",
    "The copy.deepcopy() function will do a deep copy of a list. only copy.deepcopy() will duplicate any lists inside the list"
   ]
  },
  {
   "cell_type": "code",
   "execution_count": null,
   "id": "ed8fd4d0",
   "metadata": {},
   "outputs": [],
   "source": []
  }
 ],
 "metadata": {
  "kernelspec": {
   "display_name": "Python 3 (ipykernel)",
   "language": "python",
   "name": "python3"
  },
  "language_info": {
   "codemirror_mode": {
    "name": "ipython",
    "version": 3
   },
   "file_extension": ".py",
   "mimetype": "text/x-python",
   "name": "python",
   "nbconvert_exporter": "python",
   "pygments_lexer": "ipython3",
   "version": "3.9.7"
  }
 },
 "nbformat": 4,
 "nbformat_minor": 5
}
