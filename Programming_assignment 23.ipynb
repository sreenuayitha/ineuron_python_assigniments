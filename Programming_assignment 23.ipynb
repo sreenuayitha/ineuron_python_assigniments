{
 "cells": [
  {
   "cell_type": "markdown",
   "id": "2616c295",
   "metadata": {},
   "source": [
    "### Question 1\n",
    "#### Create a function that takes a number as an argument and returns True or False depending on whether the number is symmetrical or not. A number is symmetrical when it is the same as its reverse."
   ]
  },
  {
   "cell_type": "markdown",
   "id": "b19b0f90",
   "metadata": {},
   "source": [
    "### Examples\n",
    "\n",
    "is_symmetrical(7227) ➞ True\n",
    "\n",
    "is_symmetrical(12567) ➞ False\n",
    "\n",
    "is_symmetrical(44444444) ➞ True\n",
    "\n",
    "is_symmetrical(9939) ➞ False\n",
    "\n",
    "is_symmetrical(1112111) ➞ True"
   ]
  },
  {
   "cell_type": "code",
   "execution_count": 4,
   "id": "f378831a",
   "metadata": {},
   "outputs": [
    {
     "name": "stdout",
     "output_type": "stream",
     "text": [
      "reverse_num:  7\n",
      "reverse_num:  72\n",
      "reverse_num:  722\n",
      "reverse_num:  7227\n",
      "num 7227 is a symmatric\n"
     ]
    }
   ],
   "source": [
    "def is_symmartic(num):\n",
    "    current_num=reverse_num=0\n",
    "    remaning_num=num\n",
    "    while (remaning_num !=0):\n",
    "        current_num = remaning_num%10\n",
    "        reverse_num=reverse_num *10 +current_num\n",
    "        print('reverse_num: ',reverse_num)\n",
    "        remaning_num=remaning_num//10\n",
    "        \n",
    "    if reverse_num == num:\n",
    "        print('num {} is a symmatric'.format(num))\n",
    "    else:\n",
    "        print('num {} is not a symmatric'.format(num))\n",
    "        \n",
    "is_symmartic(7227)"
   ]
  },
  {
   "cell_type": "code",
   "execution_count": 6,
   "id": "0dde4e65",
   "metadata": {},
   "outputs": [
    {
     "name": "stdout",
     "output_type": "stream",
     "text": [
      "reverse_num:  7\n",
      "reverse_num:  76\n",
      "reverse_num:  765\n",
      "reverse_num:  7652\n",
      "reverse_num:  76521\n",
      "num 12567 is not a symmatric\n"
     ]
    }
   ],
   "source": [
    "def is_symmartic(num):\n",
    "    current_num=reverse_num=0\n",
    "    remaning_num=num\n",
    "    while (remaning_num !=0):\n",
    "        current_num = remaning_num%10\n",
    "        reverse_num=reverse_num *10 +current_num\n",
    "        print('reverse_num: ',reverse_num)\n",
    "        remaning_num=remaning_num//10\n",
    "        \n",
    "    if reverse_num == num:\n",
    "        print('num {} is a symmatric'.format(num))\n",
    "    else:\n",
    "        print('num {} is not a symmatric'.format(num))\n",
    "        \n",
    "is_symmartic(12567)"
   ]
  },
  {
   "cell_type": "code",
   "execution_count": 7,
   "id": "bbfef791",
   "metadata": {},
   "outputs": [
    {
     "name": "stdout",
     "output_type": "stream",
     "text": [
      "reverse_num:  4\n",
      "reverse_num:  44\n",
      "reverse_num:  444\n",
      "reverse_num:  4444\n",
      "reverse_num:  44444\n",
      "reverse_num:  444444\n",
      "reverse_num:  4444444\n",
      "reverse_num:  44444444\n",
      "num 44444444 is a symmatric\n"
     ]
    }
   ],
   "source": [
    "def is_symmartic(num):\n",
    "    current_num=reverse_num=0\n",
    "    remaning_num=num\n",
    "    while (remaning_num !=0):\n",
    "        current_num = remaning_num%10\n",
    "        reverse_num=reverse_num *10 +current_num\n",
    "        print('reverse_num: ',reverse_num)\n",
    "        remaning_num=remaning_num//10\n",
    "        \n",
    "    if reverse_num == num:\n",
    "        print('num {} is a symmatric'.format(num))\n",
    "    else:\n",
    "        print('num {} is not a symmatric'.format(num))\n",
    "        \n",
    "is_symmartic(44444444)"
   ]
  },
  {
   "cell_type": "markdown",
   "id": "55dbcd44",
   "metadata": {},
   "source": [
    "### Question 2\n",
    "#### Given a string of numbers separated by a comma and space, return the product of the numbers.\n",
    "\n",
    "Examples\n",
    "\n",
    "multiply_nums(&quot;2, 3&quot;) ➞ 6\n",
    "\n",
    "multiply_nums(&quot;1, 2, 3, 4&quot;) ➞ 24\n",
    "\n",
    "multiply_nums(&quot;54, 75, 453, 0&quot;) ➞ 0\n",
    "\n",
    "multiply_nums(&quot;10, -2&quot;) ➞ -20"
   ]
  },
  {
   "cell_type": "code",
   "execution_count": 23,
   "id": "0c8c4665",
   "metadata": {},
   "outputs": [],
   "source": [
    "def mult(n):\n",
    "    n=n.replace(' ',\"\")\n",
    "    n=n.split(',')\n",
    "    sum=1\n",
    "    \n",
    "    for i in n:\n",
    "        sum = sum * int(i)\n",
    "    return sum\n"
   ]
  },
  {
   "cell_type": "code",
   "execution_count": 24,
   "id": "41d9dab4",
   "metadata": {},
   "outputs": [
    {
     "data": {
      "text/plain": [
       "6"
      ]
     },
     "execution_count": 24,
     "metadata": {},
     "output_type": "execute_result"
    }
   ],
   "source": [
    "mult('2,3')"
   ]
  },
  {
   "cell_type": "code",
   "execution_count": 25,
   "id": "2066aaa6",
   "metadata": {},
   "outputs": [
    {
     "data": {
      "text/plain": [
       "24"
      ]
     },
     "execution_count": 25,
     "metadata": {},
     "output_type": "execute_result"
    }
   ],
   "source": [
    "mult('1,2,3,4')"
   ]
  },
  {
   "cell_type": "code",
   "execution_count": 26,
   "id": "a7b57587",
   "metadata": {},
   "outputs": [
    {
     "data": {
      "text/plain": [
       "0"
      ]
     },
     "execution_count": 26,
     "metadata": {},
     "output_type": "execute_result"
    }
   ],
   "source": [
    "mult('54,75,453,0')"
   ]
  },
  {
   "cell_type": "code",
   "execution_count": 27,
   "id": "ddb376fa",
   "metadata": {},
   "outputs": [
    {
     "data": {
      "text/plain": [
       "-20"
      ]
     },
     "execution_count": 27,
     "metadata": {},
     "output_type": "execute_result"
    }
   ],
   "source": [
    "mult('10,-2')"
   ]
  },
  {
   "cell_type": "markdown",
   "id": "b83eb4c2",
   "metadata": {},
   "source": [
    "### Question 3\n",
    "#### Create a function that squares every digit of a number.\n",
    "Examples\n",
    "\n",
    "square_digits(9119) ➞ 811181\n",
    "\n",
    "square_digits(2483) ➞ 416649\n",
    "\n",
    "square_digits(3212) ➞ 9414"
   ]
  },
  {
   "cell_type": "code",
   "execution_count": 28,
   "id": "c645e428",
   "metadata": {},
   "outputs": [
    {
     "data": {
      "text/plain": [
       "811181"
      ]
     },
     "execution_count": 28,
     "metadata": {},
     "output_type": "execute_result"
    }
   ],
   "source": [
    "def square(s):\n",
    "    z=''.join(str(int(i)**2)for i in str(s))\n",
    "    return int(z)\n",
    "square(9119)"
   ]
  },
  {
   "cell_type": "code",
   "execution_count": 29,
   "id": "3b6b9a0a",
   "metadata": {},
   "outputs": [
    {
     "data": {
      "text/plain": [
       "416649"
      ]
     },
     "execution_count": 29,
     "metadata": {},
     "output_type": "execute_result"
    }
   ],
   "source": [
    "def square(s):\n",
    "    z=''.join(str(int(i)**2)for i in str(s))\n",
    "    return int(z)\n",
    "square(2483)"
   ]
  },
  {
   "cell_type": "code",
   "execution_count": 30,
   "id": "5a09159d",
   "metadata": {},
   "outputs": [
    {
     "data": {
      "text/plain": [
       "9414"
      ]
     },
     "execution_count": 30,
     "metadata": {},
     "output_type": "execute_result"
    }
   ],
   "source": [
    "def square(s):\n",
    "    z=''.join(str(int(i)**2)for i in str(s))\n",
    "    return int(z)\n",
    "square(3212)"
   ]
  },
  {
   "cell_type": "markdown",
   "id": "2c504c59",
   "metadata": {},
   "source": [
    "### Question 4\n",
    "\n",
    "Create a function that sorts a list and removes all duplicate items from it.\n",
    "\n",
    "Examples\n",
    "\n",
    "setify([1, 3, 3, 5, 5]) ➞ [1, 3, 5]\n",
    "\n",
    "setify([4, 4, 4, 4]) ➞ [4]\n",
    "\n",
    "setify([5, 7, 8, 9, 10, 15]) ➞ [5, 7, 8, 9, 10, 15]\n",
    "\n",
    "setify([3, 3, 3, 2, 1]) ➞ [1, 2, 3]"
   ]
  },
  {
   "cell_type": "code",
   "execution_count": 2,
   "id": "69120299",
   "metadata": {},
   "outputs": [
    {
     "data": {
      "text/plain": [
       "[1, 3, 5]"
      ]
     },
     "execution_count": 2,
     "metadata": {},
     "output_type": "execute_result"
    }
   ],
   "source": [
    "def setify(lst):\n",
    "    return list(set(lst))\n",
    "\n",
    "setify([1,3,3,5,5])"
   ]
  },
  {
   "cell_type": "code",
   "execution_count": 3,
   "id": "90ef521d",
   "metadata": {},
   "outputs": [
    {
     "data": {
      "text/plain": [
       "[4]"
      ]
     },
     "execution_count": 3,
     "metadata": {},
     "output_type": "execute_result"
    }
   ],
   "source": [
    "setify([4,4,4,4])"
   ]
  },
  {
   "cell_type": "code",
   "execution_count": 4,
   "id": "6b839893",
   "metadata": {},
   "outputs": [
    {
     "data": {
      "text/plain": [
       "[5, 7, 8, 9, 10, 15]"
      ]
     },
     "execution_count": 4,
     "metadata": {},
     "output_type": "execute_result"
    }
   ],
   "source": [
    "setify([5,7,8,9,10,15])"
   ]
  },
  {
   "cell_type": "code",
   "execution_count": 5,
   "id": "24856999",
   "metadata": {},
   "outputs": [
    {
     "data": {
      "text/plain": [
       "[1, 2, 3]"
      ]
     },
     "execution_count": 5,
     "metadata": {},
     "output_type": "execute_result"
    }
   ],
   "source": [
    "setify([3,3,3,2,1])"
   ]
  },
  {
   "cell_type": "markdown",
   "id": "605225dc",
   "metadata": {},
   "source": [
    "### Question 5\n",
    "#### Create a function that returns the mean of all digits.\n",
    "\n",
    "Examples\n",
    "\n",
    "mean(42) ➞ 3\n",
    "\n",
    "mean(12345) ➞ 3\n",
    "\n",
    "mean(666) ➞ 6"
   ]
  },
  {
   "cell_type": "code",
   "execution_count": 6,
   "id": "a5411f07",
   "metadata": {},
   "outputs": [
    {
     "name": "stdout",
     "output_type": "stream",
     "text": [
      "3\n"
     ]
    }
   ],
   "source": [
    "def mean_num(s):\n",
    "    n=len(str(s))\n",
    "    sum= mean = 0\n",
    "    for i in str(s):\n",
    "        sum+=int(i)\n",
    "    return int(sum/n)\n",
    "print(mean_num(42))"
   ]
  },
  {
   "cell_type": "code",
   "execution_count": 7,
   "id": "f77cce0a",
   "metadata": {},
   "outputs": [
    {
     "name": "stdout",
     "output_type": "stream",
     "text": [
      "3\n"
     ]
    }
   ],
   "source": [
    "def mean_num(s):\n",
    "    n=len(str(s))\n",
    "    sum= mean = 0\n",
    "    for i in str(s):\n",
    "        sum+=int(i)\n",
    "    return int(sum/n)\n",
    "print(mean_num(12345))"
   ]
  },
  {
   "cell_type": "code",
   "execution_count": 8,
   "id": "8b3958f8",
   "metadata": {},
   "outputs": [
    {
     "name": "stdout",
     "output_type": "stream",
     "text": [
      "6\n"
     ]
    }
   ],
   "source": [
    "def mean_num(s):\n",
    "    n=len(str(s))\n",
    "    sum= mean = 0\n",
    "    for i in str(s):\n",
    "        sum+=int(i)\n",
    "    return int(sum/n)\n",
    "print(mean_num(66666))"
   ]
  },
  {
   "cell_type": "code",
   "execution_count": null,
   "id": "504c5733",
   "metadata": {},
   "outputs": [],
   "source": []
  }
 ],
 "metadata": {
  "kernelspec": {
   "display_name": "Python 3 (ipykernel)",
   "language": "python",
   "name": "python3"
  },
  "language_info": {
   "codemirror_mode": {
    "name": "ipython",
    "version": 3
   },
   "file_extension": ".py",
   "mimetype": "text/x-python",
   "name": "python",
   "nbconvert_exporter": "python",
   "pygments_lexer": "ipython3",
   "version": "3.9.13"
  }
 },
 "nbformat": 4,
 "nbformat_minor": 5
}
