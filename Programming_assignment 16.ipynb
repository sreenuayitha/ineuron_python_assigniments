{
 "cells": [
  {
   "cell_type": "markdown",
   "id": "b5956fb8",
   "metadata": {},
   "source": [
    "### Question1. \n",
    "Write a function that stutters a word as if someone is struggling to read it. The\n",
    "first two letters are repeated twice with an ellipsis ... and space after each, and then the\n",
    "word is pronounced with a question mark ?."
   ]
  },
  {
   "cell_type": "code",
   "execution_count": 1,
   "id": "ee0fb0f1",
   "metadata": {},
   "outputs": [
    {
     "name": "stdout",
     "output_type": "stream",
     "text": [
      "enter the words: sreenu\n",
      "sr...sr...sreenu?\n"
     ]
    }
   ],
   "source": [
    "def struggling(words):\n",
    "    return (2*(words[:2]+'...'))+words+'?'\n",
    "words=str(input('enter the words: '))\n",
    "print(struggling(words))"
   ]
  },
  {
   "cell_type": "markdown",
   "id": "93e3081b",
   "metadata": {},
   "source": [
    "### Question 2.Create a function that takes an angle in radians and returns the corresponding angle in degrees rounded to one decimal place.\n",
    "Examples\n",
    "\n",
    "radians_to_degrees(1) ➞ 57.3\n",
    "\n",
    "radians_to_degrees(20) ➞ 1145.9\n",
    "\n",
    "radians_to_degrees(50) ➞ 2864.8"
   ]
  },
  {
   "cell_type": "code",
   "execution_count": 11,
   "id": "91a15ab5",
   "metadata": {},
   "outputs": [
    {
     "name": "stdout",
     "output_type": "stream",
     "text": [
      "enter number: 1\n",
      "degree:  57.3\n"
     ]
    }
   ],
   "source": [
    "def converts(n):\n",
    "    pie=3.14159\n",
    "    degree=n*(180/pie)\n",
    "    return degree\n",
    "n=int(input('enter number: '))\n",
    "print(\"degree: \",(round(converts(n),2)))"
   ]
  },
  {
   "cell_type": "markdown",
   "id": "eec94e6d",
   "metadata": {},
   "source": [
    "### Question 3. In this challenge, establish if a given integer num is a Curzon number. If 1 plus 2 elevated to num is exactly divisible by 1 plus 2 multiplied by num, then num is a Curzon number.\n",
    "Given a non-negative integer num, implement a function that returns True if num is a Curzon\n",
    "number, or False otherwise."
   ]
  },
  {
   "cell_type": "code",
   "execution_count": 15,
   "id": "46259451",
   "metadata": {},
   "outputs": [
    {
     "name": "stdout",
     "output_type": "stream",
     "text": [
      "enter number: 14\n",
      "14  is a curzon number\n"
     ]
    }
   ],
   "source": [
    "def curzon(n):\n",
    "    power,product=0,0\n",
    "    power=pow(2,n)+1\n",
    "    \n",
    "    poduct=2*n+1\n",
    "    \n",
    "    if (power%poduct==0):\n",
    "        print(n,' is a curzon number')\n",
    "    else:\n",
    "        print(n,' not a curzon number')\n",
    "        \n",
    "n=int(input('enter number: '))\n",
    "curzon(n)"
   ]
  },
  {
   "cell_type": "markdown",
   "id": "f7ab7944",
   "metadata": {},
   "source": [
    "### Question 4.Given the side length x find the area of a hexagon.\n",
    "Examples\n",
    "\n",
    "area_of_hexagon(1) ➞ 2.6\n",
    "\n",
    "area_of_hexagon(2) ➞ 10.4\n",
    "\n",
    "area_of_hexagon(3) ➞ 23.4"
   ]
  },
  {
   "cell_type": "code",
   "execution_count": 18,
   "id": "4087519f",
   "metadata": {},
   "outputs": [
    {
     "name": "stdout",
     "output_type": "stream",
     "text": [
      "enter side len: 4\n",
      "area of hex: 41.57\n"
     ]
    }
   ],
   "source": [
    "import math\n",
    "def area(s):\n",
    "    return (3*math.sqrt(3)*(s*s)/2)\n",
    "\n",
    "s=int(input('enter side len: '))\n",
    "print(\"area of hex:\",(round(area(s),2)))"
   ]
  },
  {
   "cell_type": "markdown",
   "id": "87f441de",
   "metadata": {},
   "source": [
    "### Question 5. Create a function that returns a base-2 (binary) representation of a base-10 (decimal) string number. To convert is simple: ((2) means base-2 and (10) means base-10) 010101001(2) = 1 + 8 + 32 + 128.\n",
    "Going from right to left, the value of the most right bit is 1, now from that every bit to the left\n",
    "will be x2 the value, value of an 8 bit binary numbers are (256, 128, 64, 32, 16, 8, 4, 2, 1)."
   ]
  },
  {
   "cell_type": "code",
   "execution_count": 24,
   "id": "569d62da",
   "metadata": {},
   "outputs": [
    {
     "name": "stdout",
     "output_type": "stream",
     "text": [
      "0\n",
      "1\n",
      "10\n",
      "11\n",
      "100\n",
      "101\n",
      "110\n",
      "111\n",
      "1000\n",
      "1001\n",
      "1010\n",
      "1011\n",
      "1100\n",
      "1101\n",
      "1110\n",
      "1111\n",
      "10000\n",
      "10001\n",
      "10010\n",
      "10011\n",
      "10100\n",
      "10101\n",
      "10110\n",
      "10111\n",
      "11000\n",
      "11001\n",
      "11010\n",
      "11011\n",
      "11100\n",
      "11101\n",
      "11110\n",
      "11111\n",
      "100000\n",
      "100001\n",
      "100010\n",
      "100011\n",
      "100100\n",
      "100101\n",
      "100110\n",
      "100111\n",
      "101000\n",
      "101001\n",
      "101010\n",
      "101011\n",
      "101100\n",
      "101101\n",
      "101110\n",
      "101111\n",
      "110000\n",
      "110001\n"
     ]
    }
   ],
   "source": [
    "def numtobinary(n):\n",
    "    return bin(n).replace(\"0b\",\"\")\n",
    "\n",
    "for i in range(0,50):\n",
    "    print(numtobinary(i))"
   ]
  },
  {
   "cell_type": "code",
   "execution_count": null,
   "id": "29448141",
   "metadata": {},
   "outputs": [],
   "source": []
  }
 ],
 "metadata": {
  "kernelspec": {
   "display_name": "Python 3 (ipykernel)",
   "language": "python",
   "name": "python3"
  },
  "language_info": {
   "codemirror_mode": {
    "name": "ipython",
    "version": 3
   },
   "file_extension": ".py",
   "mimetype": "text/x-python",
   "name": "python",
   "nbconvert_exporter": "python",
   "pygments_lexer": "ipython3",
   "version": "3.9.13"
  }
 },
 "nbformat": 4,
 "nbformat_minor": 5
}
