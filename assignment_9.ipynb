{
 "cells": [
  {
   "cell_type": "markdown",
   "id": "d5b12374",
   "metadata": {},
   "source": [
    "### 1. To what does a relative path refer?"
   ]
  },
  {
   "cell_type": "markdown",
   "id": "6bc5d949",
   "metadata": {},
   "source": [
    "Ans-Relative paths are relative to the current working directory."
   ]
  },
  {
   "cell_type": "markdown",
   "id": "f622b3c5",
   "metadata": {},
   "source": [
    "### 2. What does an absolute path start with your operating system?"
   ]
  },
  {
   "cell_type": "markdown",
   "id": "6f4144ae",
   "metadata": {},
   "source": [
    "Ans-Absolute paths start with the root folder, such as / or C:\\ ."
   ]
  },
  {
   "cell_type": "markdown",
   "id": "34859a59",
   "metadata": {},
   "source": [
    "### 3. What do the functions os.getcwd() and os.chdir() do?"
   ]
  },
  {
   "cell_type": "markdown",
   "id": "10cdbcff",
   "metadata": {},
   "source": [
    "Ans-The os.getcwd() function returns the current working directory. \n",
    "\n",
    "The os.chdir() function changes the current working directory."
   ]
  },
  {
   "cell_type": "markdown",
   "id": "bd441d6d",
   "metadata": {},
   "source": [
    "### 4. What are the . and .. folders?"
   ]
  },
  {
   "cell_type": "markdown",
   "id": "d520e8a7",
   "metadata": {},
   "source": [
    "Ans-The . folder is the current folder, and .. is the parent folder."
   ]
  },
  {
   "cell_type": "markdown",
   "id": "2ebcb43d",
   "metadata": {},
   "source": [
    "### 5. In C:\\bacon\\eggs\\spam.txt, which part is the dir name, and which part is the base name?"
   ]
  },
  {
   "cell_type": "markdown",
   "id": "073862ff",
   "metadata": {},
   "source": [
    "Ans-c:\\bacon\\eggs is the dir part name.\n",
    "    \n",
    "    spam.txt is a base name."
   ]
  },
  {
   "cell_type": "markdown",
   "id": "e6838005",
   "metadata": {},
   "source": [
    "### 6. What are the three “mode” arguments that can be passed to the open() function?"
   ]
  },
  {
   "cell_type": "markdown",
   "id": "e2a2ad8b",
   "metadata": {},
   "source": [
    "Ans- the three mode of arguments are.\n",
    "\n",
    "1.'r'-read mode.\n",
    "\n",
    "2.'w'-write mode.\n",
    "\n",
    "3.'a'-append mode."
   ]
  },
  {
   "cell_type": "markdown",
   "id": "acc4c14a",
   "metadata": {},
   "source": [
    "### 7. What happens if an existing file is opened in write mode?"
   ]
  },
  {
   "cell_type": "markdown",
   "id": "5eafb438",
   "metadata": {},
   "source": [
    "Ans-An existing file opened in write mode is erased and completely overwritten."
   ]
  },
  {
   "cell_type": "markdown",
   "id": "5d3f0916",
   "metadata": {},
   "source": [
    "### 8. How do you tell the difference between read() and readlines()?"
   ]
  },
  {
   "cell_type": "markdown",
   "id": "5ee71758",
   "metadata": {},
   "source": [
    "Ans-The read() method returns the file's entire contents as a single string value. The readlines() method returns a list of strings, where each string is a line from the file's contents."
   ]
  },
  {
   "cell_type": "markdown",
   "id": "95a6d589",
   "metadata": {},
   "source": [
    "### 9. What data structure does a shelf value resemble?"
   ]
  },
  {
   "cell_type": "markdown",
   "id": "e446d1b0",
   "metadata": {},
   "source": [
    "Ans-A shelf value resembles a dictionary value; it has keys and values, along with keys() and values() methods that work similarly to the dictionary methods of the same names."
   ]
  },
  {
   "cell_type": "code",
   "execution_count": null,
   "id": "0ac4923a",
   "metadata": {},
   "outputs": [],
   "source": []
  }
 ],
 "metadata": {
  "kernelspec": {
   "display_name": "Python 3 (ipykernel)",
   "language": "python",
   "name": "python3"
  },
  "language_info": {
   "codemirror_mode": {
    "name": "ipython",
    "version": 3
   },
   "file_extension": ".py",
   "mimetype": "text/x-python",
   "name": "python",
   "nbconvert_exporter": "python",
   "pygments_lexer": "ipython3",
   "version": "3.9.7"
  }
 },
 "nbformat": 4,
 "nbformat_minor": 5
}
