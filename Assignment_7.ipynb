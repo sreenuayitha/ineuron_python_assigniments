{
 "cells": [
  {
   "cell_type": "markdown",
   "id": "f769febb",
   "metadata": {},
   "source": [
    "### 1. What is the name of the feature responsible for generating Regex objects?"
   ]
  },
  {
   "cell_type": "markdown",
   "id": "0fcd4f69",
   "metadata": {},
   "source": [
    "Ans-The re.compile() function returns Regex objects."
   ]
  },
  {
   "cell_type": "markdown",
   "id": "519ba841",
   "metadata": {},
   "source": [
    "### 2. Why do raw strings often appear in Regex objects?"
   ]
  },
  {
   "cell_type": "markdown",
   "id": "f1297ca2",
   "metadata": {},
   "source": [
    "Ans-Raw strings are used so that backslashes do not have to be escaped."
   ]
  },
  {
   "cell_type": "markdown",
   "id": "5be6718c",
   "metadata": {},
   "source": [
    "### 3. What is the return value of the search() method?"
   ]
  },
  {
   "cell_type": "markdown",
   "id": "d571abed",
   "metadata": {},
   "source": [
    "Ans-The search() method returns Match objects."
   ]
  },
  {
   "cell_type": "markdown",
   "id": "d4fefcb2",
   "metadata": {},
   "source": [
    "### 4. From a Match item, how do you get the actual strings that match the pattern?"
   ]
  },
  {
   "cell_type": "markdown",
   "id": "7b7e6f9f",
   "metadata": {},
   "source": [
    "Ans-The group() method returns strings of the matched text."
   ]
  },
  {
   "cell_type": "markdown",
   "id": "d1bde70a",
   "metadata": {},
   "source": [
    "### 5. In the regex which created from the r&#39;(\\d\\d\\d)-(\\d\\d\\d-\\d\\d\\d\\d)&#39;, what does group zero cover? Group 2? Group 1?"
   ]
  },
  {
   "cell_type": "markdown",
   "id": "1476a27f",
   "metadata": {},
   "source": [
    "ANS-Group 0 is the entire match, group 1 covers the first set of parentheses, and group 2 covers the second set of parentheses."
   ]
  },
  {
   "cell_type": "markdown",
   "id": "922a57c0",
   "metadata": {},
   "source": [
    "### 6. In standard expression syntax, parentheses and intervals have distinct meanings. How can you tell a regex that you want it to fit real parentheses and periods?"
   ]
  },
  {
   "cell_type": "markdown",
   "id": "2f7b4335",
   "metadata": {},
   "source": [
    "Ans-Periods and parentheses can be escaped with a backslash: \\., \\(, and \\)."
   ]
  },
  {
   "cell_type": "markdown",
   "id": "569d0687",
   "metadata": {},
   "source": [
    "### 7. The findall() method returns a string list or a list of string tuples. What causes it to return one of the two options?"
   ]
  },
  {
   "cell_type": "markdown",
   "id": "b6b2c9b0",
   "metadata": {},
   "source": [
    "Ans-If the regex has no groups, a list of strings is returned. If the regex has groups, a list of tuples of strings is returned."
   ]
  },
  {
   "cell_type": "markdown",
   "id": "4917b807",
   "metadata": {},
   "source": [
    "### 8. In standard expressions, what does the | character mean?"
   ]
  },
  {
   "cell_type": "markdown",
   "id": "e0c2cb02",
   "metadata": {},
   "source": [
    "Ans-The | character signifies matching \"either, or\" between two groups."
   ]
  },
  {
   "cell_type": "markdown",
   "id": "21877acf",
   "metadata": {},
   "source": [
    "### 9. In regular expressions, what does the character stand for?"
   ]
  },
  {
   "cell_type": "markdown",
   "id": "1639bb6b",
   "metadata": {},
   "source": [
    "The ? character can either mean \"match zero or one of the preceding group\" or be used to signify nongreedy matching."
   ]
  },
  {
   "cell_type": "markdown",
   "id": "35c00f02",
   "metadata": {},
   "source": [
    "### 10.In regular expressions, what is the difference between the + and * characters?"
   ]
  },
  {
   "cell_type": "markdown",
   "id": "bab6d24d",
   "metadata": {},
   "source": [
    "Ans-The + matches one or more. The * matches zero or more."
   ]
  },
  {
   "cell_type": "markdown",
   "id": "76ec8d5c",
   "metadata": {},
   "source": [
    "### 11. What is the difference between {4} and {4,5} in regular expression?"
   ]
  },
  {
   "cell_type": "markdown",
   "id": "075197a5",
   "metadata": {},
   "source": [
    "Ans-The {4} matches exactly four instances of the preceding group. The {4,5} matches between four and five instances."
   ]
  },
  {
   "cell_type": "markdown",
   "id": "a4f45f85",
   "metadata": {},
   "source": [
    "### 12. What do you mean by the \\d, \\w, and \\s shorthand character classes signify in regular expressions?"
   ]
  },
  {
   "cell_type": "markdown",
   "id": "67ef80db",
   "metadata": {},
   "source": [
    "Ans-The \\d, \\w, and \\s shorthand character classes match a single digit, word, or space character, respectively."
   ]
  },
  {
   "cell_type": "markdown",
   "id": "4323a708",
   "metadata": {},
   "source": [
    "### 13. What do means by \\D, \\W, and \\S shorthand character classes signify in regular expressions?"
   ]
  },
  {
   "cell_type": "markdown",
   "id": "4dee86c1",
   "metadata": {},
   "source": [
    "Ans-The \\D, \\W, and \\S shorthand character classes match a single character that is not a digit, word, or space character, respectively."
   ]
  },
  {
   "cell_type": "markdown",
   "id": "b9989d08",
   "metadata": {},
   "source": [
    "### 14. What is the difference between . *? and . *?"
   ]
  },
  {
   "cell_type": "markdown",
   "id": "560be56d",
   "metadata": {},
   "source": [
    "Ans-The .* performs a greedy match, and the .*? performs a nongreedy match."
   ]
  },
  {
   "cell_type": "markdown",
   "id": "dd5f2913",
   "metadata": {},
   "source": [
    "### 15. What is the syntax for matching both numbers and lowercase letters with a character class?"
   ]
  },
  {
   "cell_type": "markdown",
   "id": "81fc7abe",
   "metadata": {},
   "source": [
    "Ans-Either [0-9a-z] or [a-z0-9]"
   ]
  },
  {
   "cell_type": "markdown",
   "id": "82c9f76e",
   "metadata": {},
   "source": [
    "### 16. What is the procedure for making a normal expression in regax case insensitive?"
   ]
  },
  {
   "cell_type": "markdown",
   "id": "49b5104f",
   "metadata": {},
   "source": [
    "Ans-Passing re.I or re.IGNORECASE as the second argument to re.compile() will make the matching case insensitive."
   ]
  },
  {
   "cell_type": "markdown",
   "id": "8e4e63b2",
   "metadata": {},
   "source": [
    "### 17. What does the . character normally match? What does it match if re.DOTALL is passed as 2nd argument in re.compile()?"
   ]
  },
  {
   "cell_type": "markdown",
   "id": "087c8389",
   "metadata": {},
   "source": [
    "Ans-The . character normally matches any character except the newline character. If re.DOTALL is passed as the second argument to re.compile(), then the dot will also match newline characters."
   ]
  },
  {
   "cell_type": "markdown",
   "id": "00549583",
   "metadata": {},
   "source": [
    "### 18. If numReg = re.compile(r&#39;\\d+&#39;), what will numRegex.sub(&#39;X&#39;, &#39;11 drummers, 10 pipers, five rings, 4 hen&#39;) return?"
   ]
  },
  {
   "cell_type": "markdown",
   "id": "440d73c1",
   "metadata": {},
   "source": [
    "Ans-"
   ]
  },
  {
   "cell_type": "code",
   "execution_count": 3,
   "id": "9e25ce5d",
   "metadata": {},
   "outputs": [],
   "source": [
    "import re\n",
    "numRegex = re.compile(r'\\d+')"
   ]
  },
  {
   "cell_type": "code",
   "execution_count": 4,
   "id": "1ab5edf0",
   "metadata": {},
   "outputs": [
    {
     "data": {
      "text/plain": [
       "'X drummers, X pipers, five rings, X hen'"
      ]
     },
     "execution_count": 4,
     "metadata": {},
     "output_type": "execute_result"
    }
   ],
   "source": [
    "numRegex.sub('X', '11 drummers, 10 pipers, five rings, 4 hen')\n"
   ]
  },
  {
   "cell_type": "markdown",
   "id": "2493804b",
   "metadata": {},
   "source": [
    "### 19. What does passing re.VERBOSE as the 2nd argument to re.compile() allow to do?"
   ]
  },
  {
   "cell_type": "markdown",
   "id": "2ee20015",
   "metadata": {},
   "source": [
    "ANs-The re.VERBOSE argument allows you to add whitespace and comments to the string passed to re.compile()."
   ]
  },
  {
   "cell_type": "markdown",
   "id": "45744364",
   "metadata": {},
   "source": [
    "### 20. How would you write a regex that match a number with comma for every three digits? It must match the given following:"
   ]
  },
  {
   "cell_type": "markdown",
   "id": "4f73e611",
   "metadata": {},
   "source": [
    "'42'\n",
    "'1,234'\n",
    "'6,368,745'\n",
    "\n",
    "but not the following:\n",
    "'12,34,567' (which has only two digits between the commas)\n",
    "'1234' (which lacks commas)"
   ]
  },
  {
   "cell_type": "markdown",
   "id": "4443c1ad",
   "metadata": {},
   "source": [
    "re.compile(r'^\\d{1,3}(,\\d{3})*$') will create this regex, but other regex strings can produce a similar regular expression."
   ]
  },
  {
   "cell_type": "markdown",
   "id": "6a0ca156",
   "metadata": {},
   "source": [
    "### 21. How would you write a regex that matches the full name of someone whose last name is Watanabe? You can assume that the first name that comes before it will always be one word that begins with a capital letter. The regex must match the following:"
   ]
  },
  {
   "cell_type": "markdown",
   "id": "453fa5de",
   "metadata": {},
   "source": [
    "&#39;Haruto Watanabe&#39;\n",
    "\n",
    "&#39;Alice Watanabe&#39;\n",
    "\n",
    "&#39;RoboCop Watanabe&#39;\n",
    "\n",
    "but not the following:\n",
    "\n",
    "&#39;haruto Watanabe&#39; (where the first name is not capitalized)\n",
    "\n",
    "&#39;Mr. Watanabe&#39; (where the preceding word has a nonletter character)\n",
    "\n",
    "&#39;Watanabe&#39; (which has no first name)\n",
    "\n",
    "&#39;Haruto watanabe&#39; (where Watanabe is not capitalized)"
   ]
  },
  {
   "cell_type": "markdown",
   "id": "614ce548",
   "metadata": {},
   "source": [
    "Ans-re.compile(r'[A-Z][a-z]*\\sNakamoto')"
   ]
  },
  {
   "cell_type": "markdown",
   "id": "713f63a1",
   "metadata": {},
   "source": [
    "### 22. How would you write a regex that matches a sentence where the first word is either Alice, Bob,or Carol; the second word is either eats, pets, or throws; the third word is apples, cats, or baseballs;and the sentence ends with a period? This regex should be case-insensitive. It must match the following:"
   ]
  },
  {
   "cell_type": "markdown",
   "id": "88dd15f3",
   "metadata": {},
   "source": [
    "&#39;Alice eats apples.&#39;\n",
    "\n",
    "&#39;Bob pets cats.&#39;\n",
    "\n",
    "&#39;Carol throws baseballs.&#39;\n",
    "\n",
    "&#39;Alice throws Apples.&#39;\n",
    "\n",
    "&#39;BOB EATS CATS.&#39;\n",
    "\n",
    "but not the following:\n",
    "    \n",
    "&#39;RoboCop eats apples.&#39;\n",
    "\n",
    "&#39;ALICE THROWS FOOTBALLS.&#39;\n",
    "\n",
    "&#39;Carol eats 7 cats.&#39;"
   ]
  },
  {
   "cell_type": "markdown",
   "id": "ad33c698",
   "metadata": {},
   "source": [
    "Ans-re.compile(r'(Alice|Bob|Carol)\\s(eats|pets|throws)\\s(apples|cats|baseballs).', re.IGNORECASE)"
   ]
  },
  {
   "cell_type": "code",
   "execution_count": null,
   "id": "5e746b0b",
   "metadata": {},
   "outputs": [],
   "source": []
  }
 ],
 "metadata": {
  "kernelspec": {
   "display_name": "Python 3 (ipykernel)",
   "language": "python",
   "name": "python3"
  },
  "language_info": {
   "codemirror_mode": {
    "name": "ipython",
    "version": 3
   },
   "file_extension": ".py",
   "mimetype": "text/x-python",
   "name": "python",
   "nbconvert_exporter": "python",
   "pygments_lexer": "ipython3",
   "version": "3.9.7"
  }
 },
 "nbformat": 4,
 "nbformat_minor": 5
}
