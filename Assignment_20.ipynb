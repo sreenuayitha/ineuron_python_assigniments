{
 "cells": [
  {
   "cell_type": "markdown",
   "id": "f59cd43a",
   "metadata": {},
   "source": [
    "### 1. Set the variable test1 to the string &#39;This is a test of the emergency text system,&#39; and save test1 to a file named test.txt."
   ]
  },
  {
   "cell_type": "code",
   "execution_count": 1,
   "id": "b8fd80d4",
   "metadata": {},
   "outputs": [],
   "source": [
    "text1='This is a test of the emergency text system'"
   ]
  },
  {
   "cell_type": "code",
   "execution_count": 2,
   "id": "e483f774",
   "metadata": {},
   "outputs": [
    {
     "data": {
      "text/plain": [
       "43"
      ]
     },
     "execution_count": 2,
     "metadata": {},
     "output_type": "execute_result"
    }
   ],
   "source": [
    "len(text1)"
   ]
  },
  {
   "cell_type": "code",
   "execution_count": 3,
   "id": "23a272e4",
   "metadata": {},
   "outputs": [],
   "source": [
    "outfile=open('text.txt','wt')"
   ]
  },
  {
   "cell_type": "code",
   "execution_count": 4,
   "id": "ef627915",
   "metadata": {},
   "outputs": [
    {
     "data": {
      "text/plain": [
       "43"
      ]
     },
     "execution_count": 4,
     "metadata": {},
     "output_type": "execute_result"
    }
   ],
   "source": [
    "outfile.write(text1)"
   ]
  },
  {
   "cell_type": "code",
   "execution_count": 5,
   "id": "39484b29",
   "metadata": {},
   "outputs": [],
   "source": [
    "outfile.close()"
   ]
  },
  {
   "cell_type": "markdown",
   "id": "8d8e6457",
   "metadata": {},
   "source": [
    "### 2. Read the contents of the file test.txt into the variable test2. Is there a difference between test 1 and test 2?"
   ]
  },
  {
   "cell_type": "code",
   "execution_count": 6,
   "id": "5edb8f16",
   "metadata": {},
   "outputs": [],
   "source": [
    "with open('text1.txt','rt') as infile:\n",
    "    text2=infile.read()"
   ]
  },
  {
   "cell_type": "code",
   "execution_count": 7,
   "id": "9dd4c4ca",
   "metadata": {},
   "outputs": [
    {
     "data": {
      "text/plain": [
       "43"
      ]
     },
     "execution_count": 7,
     "metadata": {},
     "output_type": "execute_result"
    }
   ],
   "source": [
    "len(text2)"
   ]
  },
  {
   "cell_type": "code",
   "execution_count": 8,
   "id": "c86071e5",
   "metadata": {},
   "outputs": [
    {
     "data": {
      "text/plain": [
       "True"
      ]
     },
     "execution_count": 8,
     "metadata": {},
     "output_type": "execute_result"
    }
   ],
   "source": [
    "text1==text2"
   ]
  },
  {
   "cell_type": "markdown",
   "id": "4a7707a1",
   "metadata": {},
   "source": [
    "### 3. Create a CSV file called books.csv by using these lines:\n",
    "\n",
    "title,author,year\n",
    "\n",
    "The Weirdstone of Brisingamen,Alan Garner,1960\n",
    "\n",
    "Perdido Street Station,China Miéville,2000\n",
    "\n",
    "Thud!,Terry Pratchett,2005\n",
    "\n",
    "The Spellman Files,Lisa Lutz,2007\n",
    "\n",
    "Small Gods,Terry Pratchett,1992"
   ]
  },
  {
   "cell_type": "code",
   "execution_count": 9,
   "id": "6de40574",
   "metadata": {},
   "outputs": [],
   "source": [
    "text='''title,author,year\n",
    "\n",
    "The Weirdstone of Brisingamen,Alan Garner,1960\n",
    "\n",
    "Perdido Street Station,China Miéville,2000\n",
    "\n",
    "Thud!,Terry Pratchett,2005\n",
    "\n",
    "The Spellman Files,Lisa Lutz,2007\n",
    "\n",
    "Small Gods,Terry Pratchett,1992'''"
   ]
  },
  {
   "cell_type": "code",
   "execution_count": 10,
   "id": "a8be0a49",
   "metadata": {},
   "outputs": [],
   "source": [
    "with open('book.csv','wt') as outfile:\n",
    "    outfile.write(text)"
   ]
  },
  {
   "cell_type": "markdown",
   "id": "4eabe93a",
   "metadata": {},
   "source": [
    "### 4. Use the sqlite3 module to create a SQLite database called books.db, and a table called books with these fields: title (text), author (text), and year (integer)."
   ]
  },
  {
   "cell_type": "code",
   "execution_count": 11,
   "id": "1071c2d4",
   "metadata": {},
   "outputs": [],
   "source": [
    "import sqlite3"
   ]
  },
  {
   "cell_type": "code",
   "execution_count": 12,
   "id": "ab38d61a",
   "metadata": {},
   "outputs": [],
   "source": [
    "db=sqlite3.connect('book.db')"
   ]
  },
  {
   "cell_type": "code",
   "execution_count": 13,
   "id": "8d9f73a5",
   "metadata": {},
   "outputs": [],
   "source": [
    "curs=db.cursor()"
   ]
  },
  {
   "cell_type": "code",
   "execution_count": 16,
   "id": "3cedfd63",
   "metadata": {},
   "outputs": [
    {
     "data": {
      "text/plain": [
       "<sqlite3.Cursor at 0x1dea8997650>"
      ]
     },
     "execution_count": 16,
     "metadata": {},
     "output_type": "execute_result"
    }
   ],
   "source": [
    "curs.execute('''create table book2(title text,author text,year integer)''')"
   ]
  },
  {
   "cell_type": "code",
   "execution_count": 17,
   "id": "850e168a",
   "metadata": {},
   "outputs": [],
   "source": [
    "db.commit()"
   ]
  },
  {
   "cell_type": "markdown",
   "id": "22cc5260",
   "metadata": {},
   "source": [
    "### 5. Read books.csv and insert its data into the book table."
   ]
  },
  {
   "cell_type": "code",
   "execution_count": 18,
   "id": "f2f13f65",
   "metadata": {},
   "outputs": [],
   "source": [
    "import csv"
   ]
  },
  {
   "cell_type": "code",
   "execution_count": 19,
   "id": "8df9e53a",
   "metadata": {},
   "outputs": [],
   "source": [
    "import sqlite3"
   ]
  },
  {
   "cell_type": "code",
   "execution_count": 20,
   "id": "d5376310",
   "metadata": {},
   "outputs": [],
   "source": [
    "ins_str='insert into book1 values(?,?,?)'"
   ]
  },
  {
   "cell_type": "code",
   "execution_count": 22,
   "id": "dcc1a138",
   "metadata": {},
   "outputs": [],
   "source": [
    "with open('book.csv','rt') as infile:\n",
    "    books = csv.DictReader(infile)\n",
    "    for book1 in books:\n",
    "        curs.execute(ins_str, (book1['title'], book1['author'], book1['year']))\n",
    "        \n",
    "    "
   ]
  },
  {
   "cell_type": "code",
   "execution_count": 23,
   "id": "a5832d09",
   "metadata": {},
   "outputs": [],
   "source": [
    "db.commit()"
   ]
  },
  {
   "cell_type": "markdown",
   "id": "55713235",
   "metadata": {},
   "source": [
    "### 6. Select and print the title column from the book table in alphabetical order."
   ]
  },
  {
   "cell_type": "code",
   "execution_count": 27,
   "id": "a88a38d6",
   "metadata": {},
   "outputs": [],
   "source": [
    "sql = 'select title from book1 order by title asc'"
   ]
  },
  {
   "cell_type": "code",
   "execution_count": 28,
   "id": "4be6bc8b",
   "metadata": {},
   "outputs": [
    {
     "name": "stdout",
     "output_type": "stream",
     "text": [
      "('Perdido Street Station',)\n",
      "('Small Gods',)\n",
      "('The Spellman Files',)\n",
      "('The Weirdstone of Brisingamen',)\n",
      "('Thud!',)\n"
     ]
    }
   ],
   "source": [
    "for row in db.execute(sql):\n",
    "    print(row)\n"
   ]
  },
  {
   "cell_type": "code",
   "execution_count": 29,
   "id": "b97cd403",
   "metadata": {},
   "outputs": [
    {
     "name": "stdout",
     "output_type": "stream",
     "text": [
      "Perdido Street Station\n",
      "Small Gods\n",
      "The Spellman Files\n",
      "The Weirdstone of Brisingamen\n",
      "Thud!\n"
     ]
    }
   ],
   "source": [
    "for row in db.execute(sql):\n",
    "    print(row[0])"
   ]
  },
  {
   "cell_type": "markdown",
   "id": "0299b1de",
   "metadata": {},
   "source": [
    "### 7. From the book table, select and print all columns in the order of publication."
   ]
  },
  {
   "cell_type": "code",
   "execution_count": 30,
   "id": "69a669f7",
   "metadata": {},
   "outputs": [],
   "source": [
    "sql1='select * from book1 order by year'"
   ]
  },
  {
   "cell_type": "code",
   "execution_count": 31,
   "id": "717d641f",
   "metadata": {},
   "outputs": [
    {
     "name": "stdout",
     "output_type": "stream",
     "text": [
      "('The Weirdstone of Brisingamen', 'Alan Garner', 1960)\n",
      "('Small Gods', 'Terry Pratchett', 1992)\n",
      "('Perdido Street Station', 'China Miéville', 2000)\n",
      "('Thud!', 'Terry Pratchett', 2005)\n",
      "('The Spellman Files', 'Lisa Lutz', 2007)\n"
     ]
    }
   ],
   "source": [
    "for i in db.execute(sql1):\n",
    "    print(i)"
   ]
  },
  {
   "cell_type": "code",
   "execution_count": 32,
   "id": "177b9714",
   "metadata": {},
   "outputs": [
    {
     "name": "stdout",
     "output_type": "stream",
     "text": [
      "The Weirdstone of Brisingamen Alan Garner 1960 ,\n",
      "Small Gods Terry Pratchett 1992 ,\n",
      "Perdido Street Station China Miéville 2000 ,\n",
      "Thud! Terry Pratchett 2005 ,\n",
      "The Spellman Files Lisa Lutz 2007 ,\n"
     ]
    }
   ],
   "source": [
    "for i in db.execute(sql1):\n",
    "    print(*i,',')"
   ]
  },
  {
   "cell_type": "markdown",
   "id": "0c6ff3b5",
   "metadata": {},
   "source": [
    "### 8. Use the sqlalchemy module to connect to the sqlite3 database books.db that you just made in exercise 6."
   ]
  },
  {
   "cell_type": "code",
   "execution_count": 33,
   "id": "9b33b1d6",
   "metadata": {},
   "outputs": [],
   "source": [
    "import sqlalchemy"
   ]
  },
  {
   "cell_type": "code",
   "execution_count": 34,
   "id": "8d80069e",
   "metadata": {},
   "outputs": [],
   "source": [
    "conn = sqlalchemy.create_engine('sqlite:///book.db')"
   ]
  },
  {
   "cell_type": "code",
   "execution_count": 38,
   "id": "660093f3",
   "metadata": {},
   "outputs": [],
   "source": [
    "sql = 'select title from book1 order by title asc'"
   ]
  },
  {
   "cell_type": "code",
   "execution_count": 39,
   "id": "aabac0ff",
   "metadata": {},
   "outputs": [],
   "source": [
    "rows = conn.execute(sql)"
   ]
  },
  {
   "cell_type": "code",
   "execution_count": 40,
   "id": "b8fdd017",
   "metadata": {},
   "outputs": [
    {
     "name": "stdout",
     "output_type": "stream",
     "text": [
      "('Perdido Street Station',)\n",
      "('Small Gods',)\n",
      "('The Spellman Files',)\n",
      "('The Weirdstone of Brisingamen',)\n",
      "('Thud!',)\n"
     ]
    }
   ],
   "source": [
    "for row in rows:\n",
    "    print(row)"
   ]
  },
  {
   "cell_type": "markdown",
   "id": "114fdea8",
   "metadata": {},
   "source": [
    "### 9. Install the Redis server and the Python redis library (pip install redis) on your computer. Create a Redis hash called test with the fields count (1) and name (&#39;Fester Bestertester&#39;). Print all the fields for test."
   ]
  },
  {
   "cell_type": "code",
   "execution_count": 41,
   "id": "b39193ec",
   "metadata": {},
   "outputs": [
    {
     "name": "stdout",
     "output_type": "stream",
     "text": [
      "Collecting redis\n",
      "  Downloading redis-4.4.2-py3-none-any.whl (237 kB)\n",
      "     ------------------------------------ 237.8/237.8 kB 910.3 kB/s eta 0:00:00\n",
      "Collecting async-timeout>=4.0.2\n",
      "  Downloading async_timeout-4.0.2-py3-none-any.whl (5.8 kB)\n",
      "Installing collected packages: async-timeout, redis\n",
      "Successfully installed async-timeout-4.0.2 redis-4.4.2\n"
     ]
    }
   ],
   "source": [
    "!pip install redis"
   ]
  },
  {
   "cell_type": "code",
   "execution_count": 54,
   "id": "770a2132",
   "metadata": {},
   "outputs": [],
   "source": [
    "import redis "
   ]
  },
  {
   "cell_type": "code",
   "execution_count": 55,
   "id": "ab6b531d",
   "metadata": {},
   "outputs": [],
   "source": [
    "conn = redis.Redis() "
   ]
  },
  {
   "cell_type": "markdown",
   "id": "73f6619b",
   "metadata": {},
   "source": [
    "### 10. Increment the count field of test and print it."
   ]
  },
  {
   "cell_type": "markdown",
   "id": "993eefb4",
   "metadata": {},
   "source": [
    "conn.hincrby('test', 'count', 3) 4 conn.hget('test', 'count') b'4'"
   ]
  },
  {
   "cell_type": "code",
   "execution_count": null,
   "id": "9b182f48",
   "metadata": {},
   "outputs": [],
   "source": []
  }
 ],
 "metadata": {
  "kernelspec": {
   "display_name": "Python 3 (ipykernel)",
   "language": "python",
   "name": "python3"
  },
  "language_info": {
   "codemirror_mode": {
    "name": "ipython",
    "version": 3
   },
   "file_extension": ".py",
   "mimetype": "text/x-python",
   "name": "python",
   "nbconvert_exporter": "python",
   "pygments_lexer": "ipython3",
   "version": "3.9.13"
  }
 },
 "nbformat": 4,
 "nbformat_minor": 5
}
