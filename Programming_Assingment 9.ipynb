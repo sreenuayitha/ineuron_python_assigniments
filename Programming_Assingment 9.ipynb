{
 "cells": [
  {
   "cell_type": "markdown",
   "id": "730f33cd",
   "metadata": {},
   "source": [
    "### 1. Write a Python program to check if the given number is a Disarium Number?"
   ]
  },
  {
   "cell_type": "code",
   "execution_count": 1,
   "id": "3ba515c9",
   "metadata": {},
   "outputs": [],
   "source": [
    "import math"
   ]
  },
  {
   "cell_type": "code",
   "execution_count": 8,
   "id": "dc4ef587",
   "metadata": {},
   "outputs": [
    {
     "name": "stdout",
     "output_type": "stream",
     "text": [
      "enter number: 135\n",
      "this is disarium number\n"
     ]
    }
   ],
   "source": [
    "def check(n):\n",
    "    count_digit=len(str(n))\n",
    "    sum=0\n",
    "    x=n\n",
    "    while x!=0:\n",
    "        r=x%10\n",
    "        sum=(int)(sum+math.pow(r,count_digit))\n",
    "        count_digit=count_digit-1\n",
    "        x=x//10\n",
    "        \n",
    "    if sum == n:\n",
    "        return 1\n",
    "    else:\n",
    "        return 0\n",
    "n=int(input('enter number: '))\n",
    "    \n",
    "if (check(n)==1):\n",
    "    print('this is disarium number')\n",
    "else:\n",
    "    print('this is not disarium number')"
   ]
  },
  {
   "cell_type": "code",
   "execution_count": 9,
   "id": "231962bb",
   "metadata": {},
   "outputs": [
    {
     "name": "stdout",
     "output_type": "stream",
     "text": [
      "enter number: 121\n",
      "this is not disarium number\n"
     ]
    }
   ],
   "source": [
    "def check(n):\n",
    "    count_digit=len(str(n))\n",
    "    sum=0\n",
    "    x=n\n",
    "    while x!=0:\n",
    "        r=x%10\n",
    "        sum=(int)(sum+math.pow(r,count_digit))\n",
    "        count_digit=count_digit-1\n",
    "        x=x//10\n",
    "        \n",
    "    if sum == n:\n",
    "        return 1\n",
    "    else:\n",
    "        return 0\n",
    "n=int(input('enter number: '))\n",
    "    \n",
    "if (check(n)==1):\n",
    "    print('this is disarium number')\n",
    "else:\n",
    "    print('this is not disarium number')"
   ]
  },
  {
   "cell_type": "markdown",
   "id": "a7741f86",
   "metadata": {},
   "source": [
    "### 2. Write a Python program to print all disarium numbers between 1 to 100?"
   ]
  },
  {
   "cell_type": "code",
   "execution_count": 22,
   "id": "e9f2ab4a",
   "metadata": {},
   "outputs": [
    {
     "name": "stdout",
     "output_type": "stream",
     "text": [
      "enter minimum number: 1\n",
      "enter max number: 100\n",
      "1 2 3 4 5 6 7 8 9 89 "
     ]
    }
   ],
   "source": [
    "def digitsCount(Number):\n",
    "    length = 0\n",
    "    while Number != 0:\n",
    "        length = length + 1\n",
    "        Number = Number // 10\n",
    "    return length\n",
    "\n",
    "def digitsSum(Number):\n",
    "    Sum = 0\n",
    "    rem = 0\n",
    "    length = digitsCount(Number)\n",
    "    while Number > 0:\n",
    "        rem = Number % 10\n",
    "        Sum = Sum + math.pow(rem, length)\n",
    "        Number = Number // 10\n",
    "        length = length - 1\n",
    "    return Sum\n",
    "\n",
    "min_num=int(input('enter minimum number: '))\n",
    "max_num=int(input('enter max number: '))\n",
    "\n",
    "for i in range(min_num,max_num):\n",
    "    sum=digitsSum(i)\n",
    "    if sum==i:\n",
    "        print(i,end=' ')"
   ]
  },
  {
   "cell_type": "markdown",
   "id": "9bee6eec",
   "metadata": {},
   "source": [
    "### 3. Write a Python program to check if the given number is Happy Number?"
   ]
  },
  {
   "cell_type": "code",
   "execution_count": 26,
   "id": "e8070ede",
   "metadata": {},
   "outputs": [
    {
     "name": "stdout",
     "output_type": "stream",
     "text": [
      "enter number: 19\n",
      "the number is happy\n"
     ]
    }
   ],
   "source": [
    "def ishappy(n):\n",
    "    sum =0\n",
    "    while (n>0):\n",
    "        digi=n%10\n",
    "        sum=sum+digi**2\n",
    "        n=n//10\n",
    "    return sum\n",
    "n=int(input('enter number: '))\n",
    "resu=n\n",
    "\n",
    "while (resu!=1 and resu!=4):\n",
    "    resu=ishappy(resu)\n",
    "\n",
    "if resu == 1:\n",
    "    print('the number is happy')\n",
    "else:\n",
    "    print('the number is not happy')"
   ]
  },
  {
   "cell_type": "code",
   "execution_count": 27,
   "id": "ccef0b62",
   "metadata": {},
   "outputs": [
    {
     "name": "stdout",
     "output_type": "stream",
     "text": [
      "enter number: 20\n",
      "the number is not happy\n"
     ]
    }
   ],
   "source": [
    "def ishappy(n):\n",
    "    sum =0\n",
    "    while (n>0):\n",
    "        digi=n%10\n",
    "        sum=sum+digi**2\n",
    "        n=n//10\n",
    "    return sum\n",
    "n=int(input('enter number: '))\n",
    "resu=n\n",
    "\n",
    "while (resu!=1 and resu!=4):\n",
    "    resu=ishappy(resu)\n",
    "\n",
    "if resu == 1:\n",
    "    print('the number is happy')\n",
    "else:\n",
    "    print('the number is not happy')"
   ]
  },
  {
   "cell_type": "markdown",
   "id": "2ad909a6",
   "metadata": {},
   "source": [
    "### 4. Write a Python program to print all happy numbers between 1 and 100?"
   ]
  },
  {
   "cell_type": "code",
   "execution_count": 30,
   "id": "7c7c0c5c",
   "metadata": {},
   "outputs": [
    {
     "name": "stdout",
     "output_type": "stream",
     "text": [
      "enter mini_num number: 1\n",
      "enter max_num number: 101\n",
      "[1, 7, 10, 13, 19, 23, 28, 31, 32, 44, 49, 68, 70, 79, 82, 86, 91, 94, 97, 100]\n"
     ]
    }
   ],
   "source": [
    "def ishappy(n):\n",
    "    sum =0\n",
    "    while (n>0):\n",
    "        digi=n%10\n",
    "        sum=sum+digi**2\n",
    "        n=n//10\n",
    "    return sum\n",
    "\n",
    "min_num=int(input('enter mini_num number: '))\n",
    "max_num=int(input('enter max_num number: '))\n",
    "resu=n=i=0\n",
    "happynum=[]\n",
    "\n",
    "for i in range(min_num,max_num):\n",
    "    resu=i\n",
    "    while (resu!=1 and resu!=4):\n",
    "        resu=ishappy(resu)\n",
    "    if resu == 1:\n",
    "        happynum.append(i)\n",
    "print(happynum)"
   ]
  },
  {
   "cell_type": "markdown",
   "id": "e490deb3",
   "metadata": {},
   "source": [
    "### 5. Write a Python program to determine whether the given number is a Harshad Number?"
   ]
  },
  {
   "cell_type": "code",
   "execution_count": 31,
   "id": "6526857e",
   "metadata": {},
   "outputs": [
    {
     "name": "stdout",
     "output_type": "stream",
     "text": [
      "Enter the number :64\n",
      "64 Is not a Harshad number\n"
     ]
    }
   ],
   "source": [
    "def harshad(num):\n",
    "    sum = 0\n",
    "    while(num>0):\n",
    "        digit = num%10\n",
    "        sum= sum + digit       \n",
    "        num = num//10\n",
    "    return sum\n",
    "\n",
    "num = int(input(\"Enter the number :\"))\n",
    "sum = harshad(num)\n",
    "\n",
    "if num % sum == 0:\n",
    "    print(num,\"Is a Harshad number\")\n",
    "else:\n",
    "    print(num,\"Is not a Harshad number\")"
   ]
  },
  {
   "cell_type": "code",
   "execution_count": 32,
   "id": "98c9c539",
   "metadata": {},
   "outputs": [
    {
     "name": "stdout",
     "output_type": "stream",
     "text": [
      "Enter the number :54\n",
      "54 Is a Harshad number\n"
     ]
    }
   ],
   "source": [
    "def harshad(num):\n",
    "    sum = 0\n",
    "    while(num>0):\n",
    "        digit = num%10\n",
    "        sum= sum + digit       \n",
    "        num = num//10\n",
    "    return sum\n",
    "\n",
    "num = int(input(\"Enter the number :\"))\n",
    "sum = harshad(num)\n",
    "\n",
    "if num % sum == 0:\n",
    "    print(num,\"Is a Harshad number\")\n",
    "else:\n",
    "    print(num,\"Is not a Harshad number\")"
   ]
  },
  {
   "cell_type": "markdown",
   "id": "0fc74244",
   "metadata": {},
   "source": [
    "### 6. Write a Python program to print all pronic numbers between 1 and 100?"
   ]
  },
  {
   "cell_type": "code",
   "execution_count": 33,
   "id": "d60d2492",
   "metadata": {},
   "outputs": [
    {
     "name": "stdout",
     "output_type": "stream",
     "text": [
      "Pronic numbers in range 1 to 100\n",
      "[2, 6, 12, 20, 30, 42, 56, 72, 90]\n"
     ]
    }
   ],
   "source": [
    "def isPronic(num):\n",
    "    isPronic = False\n",
    "    for i in range(1,num+1):\n",
    "        if i*(i+1) == num:\n",
    "            isPronic = True\n",
    "            break\n",
    "    return isPronic\n",
    "\n",
    "print(\"Pronic numbers in range 1 to 100\")\n",
    "pronicNum = []\n",
    "for i in range(1,101):\n",
    "    if isPronic(i):\n",
    "        pronicNum.append(i)\n",
    "print(pronicNum)"
   ]
  },
  {
   "cell_type": "code",
   "execution_count": null,
   "id": "b827bd8f",
   "metadata": {},
   "outputs": [],
   "source": []
  }
 ],
 "metadata": {
  "kernelspec": {
   "display_name": "Python 3 (ipykernel)",
   "language": "python",
   "name": "python3"
  },
  "language_info": {
   "codemirror_mode": {
    "name": "ipython",
    "version": 3
   },
   "file_extension": ".py",
   "mimetype": "text/x-python",
   "name": "python",
   "nbconvert_exporter": "python",
   "pygments_lexer": "ipython3",
   "version": "3.9.13"
  }
 },
 "nbformat": 4,
 "nbformat_minor": 5
}
