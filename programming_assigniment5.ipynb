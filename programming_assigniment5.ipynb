{
 "cells": [
  {
   "cell_type": "markdown",
   "id": "ce56bc88",
   "metadata": {},
   "source": [
    "### 1. Write a Python Program to Find LCM?"
   ]
  },
  {
   "cell_type": "code",
   "execution_count": 8,
   "id": "996b749d",
   "metadata": {},
   "outputs": [
    {
     "name": "stdout",
     "output_type": "stream",
     "text": [
      "enter number: 54\n",
      "enter the another number: 24\n",
      "the l.c.m is 216\n"
     ]
    }
   ],
   "source": [
    "def findlcm(x,y):\n",
    "    \n",
    "    if x>y:\n",
    "        greater=x\n",
    "    else:\n",
    "        greater=y\n",
    "        \n",
    "    while(True):\n",
    "        if(greater % x == 0)and(greater % y == 0):\n",
    "            lcm = greater\n",
    "            break\n",
    "        greater +=1 \n",
    "        \n",
    "    return lcm\n",
    "\n",
    "num1=int(input('enter number: '))\n",
    "num2=int(input('enter the another number: '))\n",
    "\n",
    "print(\"the l.c.m is\",findlcm(num1,num2))"
   ]
  },
  {
   "cell_type": "markdown",
   "id": "b50690a0",
   "metadata": {},
   "source": [
    "### 2. Write a Python Program to Find HCF?"
   ]
  },
  {
   "cell_type": "code",
   "execution_count": 15,
   "id": "c486da53",
   "metadata": {},
   "outputs": [
    {
     "name": "stdout",
     "output_type": "stream",
     "text": [
      "enter the number: 54\n",
      "enter the another number: 24\n",
      "the hcf of 54 and 24 is 6\n"
     ]
    }
   ],
   "source": [
    "def find_hcf(x,y):\n",
    "    \n",
    "    if x>y:\n",
    "        smaller=x\n",
    "    else:\n",
    "        smaller=y\n",
    "    \n",
    "    for i in range(1,smaller+1):\n",
    "        if (x%i==0)and(y%i==0):\n",
    "            hcf=i\n",
    "    return hcf\n",
    "\n",
    "num1=int(input(\"enter the number: \"))\n",
    "num2=int(input(\"enter the another number: \"))\n",
    "\n",
    "print('the hcf of',num1,'and',num2,'is',find_hcf(num1,num2))"
   ]
  },
  {
   "cell_type": "markdown",
   "id": "934eee9b",
   "metadata": {},
   "source": [
    "### 3. Write a Python Program to Convert Decimal to Binary, Octal and Hexadecimal?"
   ]
  },
  {
   "cell_type": "code",
   "execution_count": 34,
   "id": "5dab9e1a",
   "metadata": {},
   "outputs": [
    {
     "name": "stdout",
     "output_type": "stream",
     "text": [
      "01010\n"
     ]
    }
   ],
   "source": [
    "# this is  builtin functions\n",
    "def deciaml_binary(num):\n",
    "    return bin(num).replace(\"b\",'')\n",
    "\n",
    "print(deciaml_binary(10))"
   ]
  },
  {
   "cell_type": "code",
   "execution_count": 29,
   "id": "cd9fae37",
   "metadata": {},
   "outputs": [
    {
     "name": "stdout",
     "output_type": "stream",
     "text": [
      "enter the number: 10\n",
      "0 1 0 1 0 None\n"
     ]
    }
   ],
   "source": [
    "def decimal_binary(num):\n",
    "    if num>=1:\n",
    "        decimal_binary(num//2)\n",
    "        \n",
    "    print(num % 2, end=' ')\n",
    "    \n",
    "if __name__ == '__main__':\n",
    "\n",
    "    num1=int(input('enter the number: '))\n",
    "    print(decimal_binary(num1))"
   ]
  },
  {
   "cell_type": "code",
   "execution_count": 43,
   "id": "254557c1",
   "metadata": {},
   "outputs": [
    {
     "name": "stdout",
     "output_type": "stream",
     "text": [
      "the equalent value of a53\n"
     ]
    }
   ],
   "source": [
    "# octal to hexadececimal\n",
    "octnum ='5123'\n",
    "\n",
    "dec=int(octnum,8)\n",
    "\n",
    "hexadec=hex(dec).replace('0x','')\n",
    "\n",
    "print(\"the equalent value of\",hexadec)"
   ]
  },
  {
   "cell_type": "markdown",
   "id": "177338c9",
   "metadata": {},
   "source": [
    "### 4. Write a Python Program To Find ASCII value of a character?"
   ]
  },
  {
   "cell_type": "code",
   "execution_count": 52,
   "id": "ea1ca6ae",
   "metadata": {},
   "outputs": [
    {
     "name": "stdout",
     "output_type": "stream",
     "text": [
      "enetr the charter: a\n",
      "the value of character'a'is 97\n"
     ]
    }
   ],
   "source": [
    "def ascii(x):\n",
    "    return ord(x)\n",
    "char=str(input('enetr the charter: '))\n",
    "ascii(char)\n",
    "print(\"the value of character'\"+char+\"'is\",ascii(char))"
   ]
  },
  {
   "cell_type": "code",
   "execution_count": 51,
   "id": "28f29054",
   "metadata": {},
   "outputs": [
    {
     "name": "stdout",
     "output_type": "stream",
     "text": [
      "enetr the charter: A\n",
      "the value of character'A'is 65\n"
     ]
    }
   ],
   "source": [
    "def ascii(x):\n",
    "    return ord(x)\n",
    "char=str(input('enetr the charter: '))\n",
    "ascii(char)\n",
    "print(\"the value of character'\"+char+\"'is\",ascii(char))"
   ]
  },
  {
   "cell_type": "markdown",
   "id": "7fbfe3cd",
   "metadata": {},
   "source": [
    "### 5. Write a Python Program to Make a Simple Calculator with 4 basic mathematical operations?"
   ]
  },
  {
   "cell_type": "code",
   "execution_count": 5,
   "id": "1b9d7d59",
   "metadata": {},
   "outputs": [
    {
     "name": "stdout",
     "output_type": "stream",
     "text": [
      "select any one.\n",
      "1.addition\n",
      "2.substraction\n",
      "3.multiplication\n",
      "4.division\n",
      "enter choice (1/2/3/4): 1\n",
      "enter 1st number: 10\n",
      "enter 2nd number: 25\n",
      "addition of two numbers:  10 + 25 = 35\n",
      "enter the option (yes/no): yes\n",
      "enter choice (1/2/3/4): 25\n",
      "invalid\n",
      "enter choice (1/2/3/4): 2\n",
      "enter 1st number: 25\n",
      "enter 2nd number: 5\n",
      "substraction of two numbers:  25 - 5 = 20\n",
      "enter the option (yes/no): yes\n",
      "enter choice (1/2/3/4): 3\n",
      "enter 1st number: 30\n",
      "enter 2nd number: 10\n",
      "mutiplication of two numbers:  30 * 10 = 300\n",
      "enter the option (yes/no): yes\n",
      "enter choice (1/2/3/4): 4\n",
      "enter 1st number: 200\n",
      "enter 2nd number: 10\n",
      "division of two numbers:  200 // 10 = 20\n",
      "enter the option (yes/no): no\n"
     ]
    }
   ],
   "source": [
    "def add(x,y):\n",
    "    return x+y\n",
    "def substraction(x,y):\n",
    "    return x-y\n",
    "def multiplication(x,y):\n",
    "    return x*y\n",
    "def division(x,y):\n",
    "    return x//y\n",
    "\n",
    "print('select any one.')\n",
    "print('1.addition')\n",
    "print('2.substraction')\n",
    "print('3.multiplication')\n",
    "print('4.division')\n",
    "\n",
    "while(True):\n",
    "    \n",
    "    choice=input('enter choice (1/2/3/4): ')\n",
    "    \n",
    "    if choice in ('1','2','3','4'):\n",
    "        num1=int(input('enter 1st number: '))\n",
    "        num2=int(input('enter 2nd number: '))\n",
    "        \n",
    "        if choice == '1':\n",
    "            print('addition of two numbers: ',num1 ,'+', num2,'=', add(num1,num2))\n",
    "        elif choice == '2':\n",
    "            print('substraction of two numbers: ',num1,'-',num2,'=',substraction(num1,num2))\n",
    "        elif choice == '3':\n",
    "            print('mutiplication of two numbers: ',num1,'*',num2,'=',multiplication(num1,num2))\n",
    "        elif choice == '4':\n",
    "            print('division of two numbers: ',num1,'//',num2,'=',division(num1,num2))\n",
    "        next_calculation=input('enter the option (yes/no): ')\n",
    "        if next_calculation == 'no':\n",
    "            break\n",
    "    else:\n",
    "        print('invalid')\n",
    "        \n"
   ]
  },
  {
   "cell_type": "code",
   "execution_count": null,
   "id": "544623dc",
   "metadata": {},
   "outputs": [],
   "source": []
  }
 ],
 "metadata": {
  "kernelspec": {
   "display_name": "Python 3 (ipykernel)",
   "language": "python",
   "name": "python3"
  },
  "language_info": {
   "codemirror_mode": {
    "name": "ipython",
    "version": 3
   },
   "file_extension": ".py",
   "mimetype": "text/x-python",
   "name": "python",
   "nbconvert_exporter": "python",
   "pygments_lexer": "ipython3",
   "version": "3.9.13"
  }
 },
 "nbformat": 4,
 "nbformat_minor": 5
}
