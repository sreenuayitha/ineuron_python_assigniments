{
 "cells": [
  {
   "cell_type": "markdown",
   "id": "2d990f61",
   "metadata": {},
   "source": [
    "### 1. Write a Python Program to Add Two Matrices?"
   ]
  },
  {
   "cell_type": "code",
   "execution_count": 8,
   "id": "5002997c",
   "metadata": {},
   "outputs": [
    {
     "name": "stdout",
     "output_type": "stream",
     "text": [
      "the sum of two matrix [13, 5, 36]\n",
      "the sum of two matrix [13, 19, 30]\n",
      "the sum of two matrix [13, 20, 65]\n"
     ]
    }
   ],
   "source": [
    "x=[[12,3,4],\n",
    "  [10,15,6],\n",
    "  [8,14,17]]\n",
    "\n",
    "y=[[1,2,32],\n",
    "  [3,4,24],\n",
    "  [5,6,48]]\n",
    "\n",
    "res=[[0,0,0],\n",
    "    [0,0,0],\n",
    "    [0,0,0]]\n",
    "\n",
    "for i in range(len(x)):\n",
    "    for j in range(len(x[0])):\n",
    "        res[i][j]=x[i][j]+y[i][j]\n",
    "for r in res:\n",
    "    print('the sum of two matrix',r)"
   ]
  },
  {
   "cell_type": "markdown",
   "id": "d1063d85",
   "metadata": {},
   "source": [
    "### 2. Write a Python Program to Multiply Two Matrices?"
   ]
  },
  {
   "cell_type": "code",
   "execution_count": 6,
   "id": "272f04d1",
   "metadata": {},
   "outputs": [
    {
     "name": "stdout",
     "output_type": "stream",
     "text": [
      "The multiplication of two matrix \n",
      "\n",
      "[[12, 3, 4], [10, 15, 6], [8, 14, 17]]  and \n",
      "\n",
      "[[1, 2, 32], [3, 4, 24], [5, 6, 48]]  is \n",
      "\n",
      "[12, 6, 128] \n",
      "The multiplication of two matrix \n",
      "\n",
      "[[12, 3, 4], [10, 15, 6], [8, 14, 17]]  and \n",
      "\n",
      "[[1, 2, 32], [3, 4, 24], [5, 6, 48]]  is \n",
      "\n",
      "[30, 60, 144] \n",
      "The multiplication of two matrix \n",
      "\n",
      "[[12, 3, 4], [10, 15, 6], [8, 14, 17]]  and \n",
      "\n",
      "[[1, 2, 32], [3, 4, 24], [5, 6, 48]]  is \n",
      "\n",
      "[40, 84, 816] \n"
     ]
    }
   ],
   "source": [
    "x=[[12,3,4],\n",
    "  [10,15,6],\n",
    "  [8,14,17]]\n",
    "\n",
    "y=[[1,2,32],\n",
    "  [3,4,24],\n",
    "  [5,6,48]]\n",
    "\n",
    "res=[[0,0,0],\n",
    "    [0,0,0],\n",
    "    [0,0,0]]\n",
    "\n",
    "for i in range(len(x)):\n",
    "    for j in range(len(x[0])):\n",
    "        res[i][j]+=x[i][j]*y[i][j]\n",
    "for r in res:\n",
    "    print(\"The multiplication of two matrix \\n\\n{}  and \\n\\n{}  is \\n\\n{} \".format(x,y,r))"
   ]
  },
  {
   "cell_type": "markdown",
   "id": "2ddf6017",
   "metadata": {},
   "source": [
    "### 3. Write a Python Program to Transpose a Matrix?"
   ]
  },
  {
   "cell_type": "code",
   "execution_count": 23,
   "id": "a0550632",
   "metadata": {},
   "outputs": [
    {
     "name": "stdout",
     "output_type": "stream",
     "text": [
      "result matrix is\n",
      "1  2  3  4  \n",
      "2  2  3  4  \n",
      "3  3  3  4  \n",
      "4  4  4  4  \n"
     ]
    }
   ],
   "source": [
    "n=4\n",
    "\n",
    "def trans(a,b):\n",
    "    for i in range(n):\n",
    "        for j in range(n):\n",
    "            b[i][j]=a[j][i]\n",
    "\n",
    "a=[[1,1,1,1],\n",
    "  [2,2,2,2],\n",
    "  [3,3,3,3],\n",
    "  [4,4,4,4]]\n",
    "\n",
    "b=a[:][:]\n",
    "\n",
    "trans(a,b)\n",
    "\n",
    "print('result matrix is')\n",
    "\n",
    "for i in range(n):\n",
    "    for j in range(n):\n",
    "        print(b[i][j],' ',end='')\n",
    "    print()"
   ]
  },
  {
   "cell_type": "markdown",
   "id": "39e5ac42",
   "metadata": {},
   "source": [
    "### 4. Write a Python Program to Sort Words in Alphabetic Order?"
   ]
  },
  {
   "cell_type": "code",
   "execution_count": 31,
   "id": "c4d19bb0",
   "metadata": {},
   "outputs": [
    {
     "name": "stdout",
     "output_type": "stream",
     "text": [
      "enter the sentance: a s b e d f\n",
      "a b d e f s\n"
     ]
    }
   ],
   "source": [
    "def alph(s):\n",
    "    w=s.split(' ')\n",
    "    for i in range(len(w)):\n",
    "        w[i]=w[i].lower()\n",
    "        s=sorted(w)\n",
    "    print(' '.join(s))\n",
    "s=str(input('enter the sentance: '))\n",
    "alph(s)"
   ]
  },
  {
   "cell_type": "markdown",
   "id": "9984b47b",
   "metadata": {},
   "source": [
    "### 5. Write a Python Program to Remove Punctuation From a String?"
   ]
  },
  {
   "cell_type": "code",
   "execution_count": 37,
   "id": "9215ad1a",
   "metadata": {},
   "outputs": [
    {
     "name": "stdout",
     "output_type": "stream",
     "text": [
      "hello  are you good  \n"
     ]
    }
   ],
   "source": [
    "import string\n",
    " \n",
    "test_str = 'hello ! are you good ? ;'\n",
    " \n",
    "test_str = test_str.translate(str.maketrans('', '', string.punctuation))\n",
    "print(test_str)"
   ]
  },
  {
   "cell_type": "code",
   "execution_count": null,
   "id": "fac37673",
   "metadata": {},
   "outputs": [],
   "source": []
  }
 ],
 "metadata": {
  "kernelspec": {
   "display_name": "Python 3 (ipykernel)",
   "language": "python",
   "name": "python3"
  },
  "language_info": {
   "codemirror_mode": {
    "name": "ipython",
    "version": 3
   },
   "file_extension": ".py",
   "mimetype": "text/x-python",
   "name": "python",
   "nbconvert_exporter": "python",
   "pygments_lexer": "ipython3",
   "version": "3.9.13"
  }
 },
 "nbformat": 4,
 "nbformat_minor": 5
}
