{
 "cells": [
  {
   "cell_type": "markdown",
   "id": "c53341e9",
   "metadata": {},
   "source": [
    "### 1. Write a Python Program to Display Fibonacci Sequence Using Recursion?"
   ]
  },
  {
   "cell_type": "code",
   "execution_count": 1,
   "id": "56de6578",
   "metadata": {},
   "outputs": [
    {
     "name": "stdout",
     "output_type": "stream",
     "text": [
      "enter the number: 10\n",
      "fibonacci sequence: \n",
      "0\n",
      "1\n",
      "1\n",
      "2\n",
      "3\n",
      "5\n",
      "8\n",
      "13\n",
      "21\n",
      "34\n"
     ]
    }
   ],
   "source": [
    "def rec_seq(n):\n",
    "    if n<=1:\n",
    "        return n\n",
    "    else:\n",
    "        return(rec_seq(n-1)+rec_seq(n-2))\n",
    "nterms=int(input('enter the number: '))\n",
    "\n",
    "if nterms <=0:\n",
    "    print('enter postive number int')\n",
    "else:\n",
    "    print('fibonacci sequence: ')\n",
    "    \n",
    "    for i in range(nterms):\n",
    "        print(rec_seq(i))"
   ]
  },
  {
   "cell_type": "markdown",
   "id": "e7f241d0",
   "metadata": {},
   "source": [
    "### 2. Write a Python Program to Find Factorial of Number Using Recursion?"
   ]
  },
  {
   "cell_type": "code",
   "execution_count": 4,
   "id": "e2ed3d32",
   "metadata": {},
   "outputs": [
    {
     "name": "stdout",
     "output_type": "stream",
     "text": [
      "enter number: 7\n",
      "The factorial of 7 is 5040\n"
     ]
    }
   ],
   "source": [
    "def fac_num(n):\n",
    "    if n==1:\n",
    "        return n\n",
    "    else:\n",
    "        return n*fac_num(n-1)\n",
    "num=int(input('enter number: '))\n",
    "\n",
    "if num <0:\n",
    "    print('sorry, factorial does not exist for negative numbers')\n",
    "elif num==0:\n",
    "    print(\"The factorial of 0 is 1\")\n",
    "else:\n",
    "    print(\"The factorial of\", num, \"is\", fac_num(num))"
   ]
  },
  {
   "cell_type": "markdown",
   "id": "f0240ad7",
   "metadata": {},
   "source": [
    "### 3. Write a Python Program to calculate your Body Mass Index?"
   ]
  },
  {
   "cell_type": "code",
   "execution_count": 7,
   "id": "3dfe66ce",
   "metadata": {},
   "outputs": [
    {
     "name": "stdout",
     "output_type": "stream",
     "text": [
      "The BMI is 21.64532402096181 so Healthy\n"
     ]
    }
   ],
   "source": [
    "def BMI(height, weight):\n",
    "    bmi = weight/(height**2)\n",
    "    return bmi\n",
    " \n",
    "# Driver code\n",
    "height = 1.79832\n",
    "weight = 70\n",
    " \n",
    "# calling the BMI function\n",
    "bmi = BMI(height, weight)\n",
    "print(\"The BMI is\", format(bmi), \"so \", end='')\n",
    " \n",
    "# Conditions to find out BMI category\n",
    "if (bmi < 18.5):\n",
    "    print(\"underweight\")\n",
    "elif ( bmi >= 18.5 and bmi < 24.9):\n",
    "    print(\"Healthy\")\n",
    "elif ( bmi >= 24.9 and bmi < 30):\n",
    "    print(\"overweight\")\n",
    "elif ( bmi >=30):\n",
    "    print(\"Suffering from Obesity\")"
   ]
  },
  {
   "cell_type": "markdown",
   "id": "4af1a245",
   "metadata": {},
   "source": [
    "### 4. Write a Python Program to calculate the natural logarithm of any number?"
   ]
  },
  {
   "cell_type": "code",
   "execution_count": 10,
   "id": "a6d4a0b3",
   "metadata": {},
   "outputs": [],
   "source": [
    "import math"
   ]
  },
  {
   "cell_type": "code",
   "execution_count": 29,
   "id": "341ecd16",
   "metadata": {},
   "outputs": [
    {
     "name": "stdout",
     "output_type": "stream",
     "text": [
      "enter number: 1\n",
      "Logarithm base num is : 0.0\n"
     ]
    }
   ],
   "source": [
    "def log(n):\n",
    "    return math.log(n)\n",
    "num=int(input('enter number: '))\n",
    "print(\"Logarithm base num is : \", end=\"\")\n",
    "print(log(num))\n"
   ]
  },
  {
   "cell_type": "code",
   "execution_count": 24,
   "id": "57155217",
   "metadata": {},
   "outputs": [
    {
     "name": "stdout",
     "output_type": "stream",
     "text": [
      "enter number: 14\n",
      "Logarithm base num is : 2.6390573296152584\n"
     ]
    }
   ],
   "source": [
    "def log(n):\n",
    "    return math.log(n)\n",
    "num=int(input('enter number: '))\n",
    "print(\"Logarithm base num is : \", end=\"\")\n",
    "print(log(num))"
   ]
  },
  {
   "cell_type": "markdown",
   "id": "2a39d70d",
   "metadata": {},
   "source": [
    "### 5. Write a Python Program for cube sum of first n natural numbers?"
   ]
  },
  {
   "cell_type": "code",
   "execution_count": 34,
   "id": "037627eb",
   "metadata": {},
   "outputs": [
    {
     "name": "stdout",
     "output_type": "stream",
     "text": [
      "enter number: 7\n",
      "the sum of N natural numbers:  784\n"
     ]
    }
   ],
   "source": [
    "\n",
    "def sum_nnum(x):\n",
    "    sum=0\n",
    "    for i in range(1,x+1):\n",
    "        sum+=i**3\n",
    "    return sum\n",
    "n=int(input('enter number: '))\n",
    "print('the sum of N natural numbers: ',sum_nnum(n))\n",
    "        "
   ]
  },
  {
   "cell_type": "code",
   "execution_count": null,
   "id": "7f9c97a0",
   "metadata": {},
   "outputs": [],
   "source": []
  }
 ],
 "metadata": {
  "kernelspec": {
   "display_name": "Python 3 (ipykernel)",
   "language": "python",
   "name": "python3"
  },
  "language_info": {
   "codemirror_mode": {
    "name": "ipython",
    "version": 3
   },
   "file_extension": ".py",
   "mimetype": "text/x-python",
   "name": "python",
   "nbconvert_exporter": "python",
   "pygments_lexer": "ipython3",
   "version": "3.9.13"
  }
 },
 "nbformat": 4,
 "nbformat_minor": 5
}
