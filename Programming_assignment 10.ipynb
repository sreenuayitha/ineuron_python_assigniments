{
 "cells": [
  {
   "cell_type": "markdown",
   "id": "f960303a",
   "metadata": {},
   "source": [
    "### 1. Write a Python program to find sum of elements in list?"
   ]
  },
  {
   "cell_type": "code",
   "execution_count": 8,
   "id": "7d2f0f5d",
   "metadata": {},
   "outputs": [
    {
     "name": "stdout",
     "output_type": "stream",
     "text": [
      "enter range of elments: 10\n",
      "1\n",
      "2\n",
      "3\n",
      "4\n",
      "5\n",
      "6\n",
      "7\n",
      "8\n",
      "9\n",
      "10\n",
      "The list of elments:  [1, 2, 3, 4, 5, 6, 7, 8, 9, 10]\n",
      "The sum of list elments is:  55\n"
     ]
    }
   ],
   "source": [
    "n= int(input('enter range of elments: '))\n",
    "\n",
    "l1=[]\n",
    "\n",
    "for i in range(n):\n",
    "    l1.append(int(input()))\n",
    "print('The list of elments: ',l1)\n",
    "print(\"The sum of list elments is: \",sum(l1))"
   ]
  },
  {
   "cell_type": "markdown",
   "id": "1fe1c62b",
   "metadata": {},
   "source": [
    "### 2. Write a Python program to Multiply all numbers in the list?"
   ]
  },
  {
   "cell_type": "code",
   "execution_count": 10,
   "id": "a715a4f6",
   "metadata": {},
   "outputs": [
    {
     "name": "stdout",
     "output_type": "stream",
     "text": [
      "enter range of elements: 5\n",
      "1\n",
      "2\n",
      "3\n",
      "4\n",
      "5\n",
      "the list of elements:  [1, 2, 3, 4, 5]\n",
      "The product of elements of list is:  120\n"
     ]
    }
   ],
   "source": [
    "n= int(input('enter range of elements: '))\n",
    "l2=[]\n",
    "for i in range(n):\n",
    "    l2.append(int(input()))\n",
    "    \n",
    "print('the list of elements: ',l2)\n",
    "\n",
    "product=1\n",
    "\n",
    "for j in l2:\n",
    "    product=product*j\n",
    "print('The product of elements of list is: ',product)"
   ]
  },
  {
   "cell_type": "markdown",
   "id": "eb4fe2dc",
   "metadata": {},
   "source": [
    "### 3. Write a Python program to find smallest number in a list?"
   ]
  },
  {
   "cell_type": "code",
   "execution_count": 14,
   "id": "add561ac",
   "metadata": {},
   "outputs": [
    {
     "name": "stdout",
     "output_type": "stream",
     "text": [
      "enter range of elements: 5\n",
      "0\n",
      "1\n",
      "2\n",
      "3\n",
      "4\n",
      "the smallest number in list: 0\n"
     ]
    }
   ],
   "source": [
    "n=int(input('enter range of elements: '))\n",
    "\n",
    "l3=[]\n",
    "for i in range(n):\n",
    "    l3.append(int(input()))\n",
    "print(\"the smallest number in list:\",min(l3))"
   ]
  },
  {
   "cell_type": "markdown",
   "id": "5b4bbc93",
   "metadata": {},
   "source": [
    "### 4. Write a Python program to find largest number in a list?"
   ]
  },
  {
   "cell_type": "code",
   "execution_count": 16,
   "id": "5039f232",
   "metadata": {},
   "outputs": [
    {
     "name": "stdout",
     "output_type": "stream",
     "text": [
      "enter range of elements: 5\n",
      "1\n",
      "8\n",
      "9\n",
      "4\n",
      "5\n",
      "the largest number in list: 9\n"
     ]
    }
   ],
   "source": [
    "n=int(input('enter range of elements: '))\n",
    "\n",
    "l4=[]\n",
    "for i in range(n):\n",
    "    l4.append(int(input()))\n",
    "print(\"the largest number in list:\",max(l4))"
   ]
  },
  {
   "cell_type": "markdown",
   "id": "7f51ee7e",
   "metadata": {},
   "source": [
    "### 5. Write a Python program to find second largest number in a list?"
   ]
  },
  {
   "cell_type": "code",
   "execution_count": 17,
   "id": "6ae85e2a",
   "metadata": {},
   "outputs": [
    {
     "name": "stdout",
     "output_type": "stream",
     "text": [
      "enter range of elements: 5\n",
      "1\n",
      "0\n",
      "85\n",
      "92\n",
      "45\n",
      "the list of elements:  [1, 0, 85, 92, 45]\n",
      "[0, 1, 45, 85, 92]\n",
      "the second largest number:  85\n"
     ]
    }
   ],
   "source": [
    "n= int(input('enter range of elements: '))\n",
    "\n",
    "l5=[]\n",
    "for i in range(n):\n",
    "    l5.append(int(input()))\n",
    "print(\"the list of elements: \",l5)\n",
    "l5.sort()\n",
    "print(l5)\n",
    "print('the second largest number: ',l5[-2])"
   ]
  },
  {
   "cell_type": "markdown",
   "id": "62501e6d",
   "metadata": {},
   "source": [
    "### 6. Write a Python program to find N largest elements from a list?"
   ]
  },
  {
   "cell_type": "code",
   "execution_count": 19,
   "id": "1a204a85",
   "metadata": {},
   "outputs": [
    {
     "name": "stdout",
     "output_type": "stream",
     "text": [
      "enter rage of elements: 5\n",
      "100\n",
      "90\n",
      "85\n",
      "74\n",
      "62\n",
      "the list of elements:  [100, 90, 85, 74, 62]\n",
      "[62, 74, 85, 90, 100]\n",
      "enter n numbers of lagre numbers: 3\n",
      "3 largest numbers are in list: [85, 90, 100]\n"
     ]
    }
   ],
   "source": [
    "n= int(input('enter rage of elements: '))\n",
    "l6=[]\n",
    "for i in range(n):\n",
    "    l6.append(int(input()))\n",
    "print('the list of elements: ',l6)\n",
    "l6.sort()\n",
    "print(l6)\n",
    "nlarge=int(input('enter n numbers of lagre numbers: '))\n",
    "\n",
    "if n< nlarge:\n",
    "    print('enterted value is larger then that list length')\n",
    "else:\n",
    "    print(nlarge,'largest numbers are in list:',l6[(n-nlarge):])"
   ]
  },
  {
   "cell_type": "markdown",
   "id": "8ceca173",
   "metadata": {},
   "source": [
    "### 7. Write a Python program to print even numbers in a list?"
   ]
  },
  {
   "cell_type": "code",
   "execution_count": 27,
   "id": "91abdb1b",
   "metadata": {},
   "outputs": [
    {
     "name": "stdout",
     "output_type": "stream",
     "text": [
      "10 20 40 2 6 "
     ]
    }
   ],
   "source": [
    "l7=[10,11,21,20,40,55,2,3,6]\n",
    "\n",
    "for i in l7:\n",
    "    if i%2==0:\n",
    "        print(i,end=' ')"
   ]
  },
  {
   "cell_type": "markdown",
   "id": "b01f2669",
   "metadata": {},
   "source": [
    "### 8. Write a Python program to print odd numbers in a List?"
   ]
  },
  {
   "cell_type": "code",
   "execution_count": 28,
   "id": "4cb55440",
   "metadata": {},
   "outputs": [
    {
     "name": "stdout",
     "output_type": "stream",
     "text": [
      "11 21 55 3 "
     ]
    }
   ],
   "source": [
    "l7=[10,11,21,20,40,55,2,3,6]\n",
    "\n",
    "for i in l7:\n",
    "    if i%2!=0:\n",
    "        print(i,end=' ')"
   ]
  },
  {
   "cell_type": "markdown",
   "id": "da9c72d1",
   "metadata": {},
   "source": [
    "### 9. Write a Python program to Remove empty List from List?"
   ]
  },
  {
   "cell_type": "code",
   "execution_count": 30,
   "id": "1d065613",
   "metadata": {},
   "outputs": [
    {
     "name": "stdout",
     "output_type": "stream",
     "text": [
      "the list of :  [2, [], 3, [], 4, [], 5, []]\n",
      "[2, 3, 4, 5]\n"
     ]
    }
   ],
   "source": [
    "list1=[2,[],3,[],4,[],5,[]]\n",
    "print('the list of : ',list1)\n",
    "new=[j for j in list1 if j!=[]]\n",
    "print(new)"
   ]
  },
  {
   "cell_type": "markdown",
   "id": "226c867f",
   "metadata": {},
   "source": [
    "### 10. Write a Python program to Cloning or Copying a list?"
   ]
  },
  {
   "cell_type": "code",
   "execution_count": 39,
   "id": "9b1e4c71",
   "metadata": {},
   "outputs": [
    {
     "name": "stdout",
     "output_type": "stream",
     "text": [
      "The list of :  [1, 2, 3, 4, 5, 6, 7, 8, 9, 10]\n",
      "The cloning the list:  [1, 2, 3, 4, 5, 6, 7, 8, 9, 10]\n",
      "the copying the list:  [1, 2, 3, 4, 5, 6, 7, 8, 9, 10]\n"
     ]
    }
   ],
   "source": [
    "list2=[1,2,3,4,5,6,7,8,9,10]\n",
    "print('The list of : ',list2)\n",
    "\n",
    "lstclon=list2[:]\n",
    "print('The cloning the list: ',lstclon)\n",
    "\n",
    "lstcopy=list2.copy()\n",
    "print('the copying the list: ',lstcopy)"
   ]
  },
  {
   "cell_type": "markdown",
   "id": "2b082519",
   "metadata": {},
   "source": [
    "### 11. Write a Python program to Count occurrences of an element in a list?"
   ]
  },
  {
   "cell_type": "code",
   "execution_count": 42,
   "id": "4a104207",
   "metadata": {},
   "outputs": [
    {
     "name": "stdout",
     "output_type": "stream",
     "text": [
      "enter the range of num: 5\n",
      "1\n",
      "2\n",
      "3\n",
      "3\n",
      "4\n",
      "the list of elements:  [1, 2, 3, 3, 4]\n",
      "enter which num u want: 3\n",
      "3 has occured 2 times in a list \n"
     ]
    }
   ],
   "source": [
    "n=int(input('enter the range of num: '))\n",
    "list3=[]\n",
    "for i in range(n):\n",
    "    list3.append(int(input()))\n",
    "print('the list of elements: ',list3)\n",
    "\n",
    "z=int(input('enter which num u want: '))\n",
    "print(z,'has occured {} times in a list '.format(list3.count(z)))"
   ]
  },
  {
   "cell_type": "code",
   "execution_count": null,
   "id": "cdf5a63f",
   "metadata": {},
   "outputs": [],
   "source": []
  }
 ],
 "metadata": {
  "kernelspec": {
   "display_name": "Python 3 (ipykernel)",
   "language": "python",
   "name": "python3"
  },
  "language_info": {
   "codemirror_mode": {
    "name": "ipython",
    "version": 3
   },
   "file_extension": ".py",
   "mimetype": "text/x-python",
   "name": "python",
   "nbconvert_exporter": "python",
   "pygments_lexer": "ipython3",
   "version": "3.9.13"
  }
 },
 "nbformat": 4,
 "nbformat_minor": 5
}
