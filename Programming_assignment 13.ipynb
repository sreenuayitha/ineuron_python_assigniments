{
 "cells": [
  {
   "cell_type": "markdown",
   "id": "b713ce01",
   "metadata": {},
   "source": [
    "### Question 1:\n",
    "Write a program that calculates and prints the value according to the given formula:\n",
    "\n",
    "Q = Square root of [(2 * C * D)/H]\n",
    "\n",
    "Following are the fixed values of C and H:\n",
    "\n",
    "C is 50. H is 30.\n",
    "\n",
    "D is the variable whose values should be input to your program in a comma-separated\n",
    "sequence."
   ]
  },
  {
   "cell_type": "code",
   "execution_count": 1,
   "id": "640bc584",
   "metadata": {},
   "outputs": [],
   "source": [
    "import math"
   ]
  },
  {
   "cell_type": "code",
   "execution_count": 6,
   "id": "c3148e5e",
   "metadata": {},
   "outputs": [
    {
     "name": "stdout",
     "output_type": "stream",
     "text": [
      "enter the nuber D comma separeted: 100,150,180\n",
      "18,22,24\n"
     ]
    }
   ],
   "source": [
    "number=input('enter the nuber D comma separeted: ')\n",
    "number=number.split(',')\n",
    "\n",
    "res_list=[]\n",
    "res_str=''\n",
    "\n",
    "for D in number:\n",
    "    q=round(math.sqrt(2*50*int(D)/30))\n",
    "    res_list.append(str(q))\n",
    "print(','.join(res_list))"
   ]
  },
  {
   "cell_type": "markdown",
   "id": "3ba5cfae",
   "metadata": {},
   "source": [
    "### Question 2:\n",
    "    \n",
    "Write a program which takes 2 digits, X,Y as input and generates a 2-dimensional array. \n",
    "The element value in the i-th row and j-th column of the array should be i*j.\n",
    "\n",
    "Note: i=0,1.., X-1; j=0,1,¡Y-1.\n",
    "\n",
    "\n",
    "Example\n",
    "Suppose the following inputs are given to the program:\n",
    "\n",
    "3,5\n",
    "\n",
    "Then, the output of the program should be:\n",
    "\n",
    "[[0, 0, 0, 0, 0], [0, 1, 2, 3, 4], [0, 2, 4, 6, 8]]"
   ]
  },
  {
   "cell_type": "code",
   "execution_count": 14,
   "id": "8335f841",
   "metadata": {},
   "outputs": [
    {
     "name": "stdout",
     "output_type": "stream",
     "text": [
      "enter x value: 3\n",
      "enter y value: 5\n",
      "enter elements: \n"
     ]
    },
    {
     "data": {
      "text/plain": [
       "[[0, 0, 0, 0, 0], [0, 1, 2, 3, 4], [0, 2, 4, 6, 8]]"
      ]
     },
     "execution_count": 14,
     "metadata": {},
     "output_type": "execute_result"
    }
   ],
   "source": [
    "def dimen(n,m):\n",
    "    a=[]\n",
    "    print('enter elements: ')\n",
    "    for i in range(n):\n",
    "        row=[]\n",
    "        for j in range(m):\n",
    "              row.append(i*j)\n",
    "        a.append(row)\n",
    "    return a\n",
    "x=int(input('enter x value: '))\n",
    "y=int(input('enter y value: '))\n",
    "dimen(x,y)          "
   ]
  },
  {
   "cell_type": "markdown",
   "id": "81c1b06b",
   "metadata": {},
   "source": [
    "### Question 3:\n",
    "Write a program that accepts a comma separated sequence of words as input and prints the\n",
    "words in a comma-separated sequence after sorting them alphabetically.\n",
    "\n",
    "Suppose the following input is supplied to the program:\n",
    "\n",
    "without,hello,bag,world\n",
    "\n",
    "Then, the output should be:\n",
    "\n",
    "bag,hello,without,world"
   ]
  },
  {
   "cell_type": "code",
   "execution_count": 16,
   "id": "a58b0a2d",
   "metadata": {},
   "outputs": [
    {
     "name": "stdout",
     "output_type": "stream",
     "text": [
      "Enter comma seperated words :without,hello,bag,world\n",
      "bag,hello,without,world\n"
     ]
    }
   ],
   "source": [
    "items=[x for x in input('Enter comma seperated words :').split(',')]\n",
    "items.sort()    \n",
    "print(','.join(items))"
   ]
  },
  {
   "cell_type": "markdown",
   "id": "21a22ec1",
   "metadata": {},
   "source": [
    "### Question 4:\n",
    "Write a program that accepts a sequence of whitespace separated words as input and prints\n",
    "the words after removing all duplicate words and sorting them alphanumerically.\n",
    "\n",
    "Suppose the following input is supplied to the program:\n",
    "\n",
    "hello world and practice makes perfect and hello world again \n",
    "\n",
    "Then, the output should be:\n",
    "\n",
    "again and hello makes perfect practice world"
   ]
  },
  {
   "cell_type": "code",
   "execution_count": 18,
   "id": "3be2b98e",
   "metadata": {},
   "outputs": [
    {
     "name": "stdout",
     "output_type": "stream",
     "text": [
      "enter the input: hello world and practice makes perfect and hello world again\n",
      "again and hello makes perfect practice world\n"
     ]
    }
   ],
   "source": [
    "items=[x for x in input('enter the input: ').split(' ')]\n",
    "print(' '.join(sorted(list(set(items)))))"
   ]
  },
  {
   "cell_type": "markdown",
   "id": "6e3c05c6",
   "metadata": {},
   "source": [
    "### Question 5:\n",
    "Write a program that accepts a sentence and calculate the number of letters and digits.\n",
    "Suppose the following input is supplied to the program:\n",
    "\n",
    "hello world! 123\n",
    "\n",
    "Then, the output should be:\n",
    "\n",
    "LETTERS 10\n",
    "\n",
    "DIGITS 3"
   ]
  },
  {
   "cell_type": "code",
   "execution_count": 19,
   "id": "bc26f9a9",
   "metadata": {},
   "outputs": [
    {
     "name": "stdout",
     "output_type": "stream",
     "text": [
      "enter the user input: sreenu123\n",
      "letter:  6\n",
      "digits:  3\n"
     ]
    }
   ],
   "source": [
    "s= input('enter the user input: ')\n",
    "digits=letter=0\n",
    "for c in s:\n",
    "    if c.isdigit():\n",
    "        digits+=1\n",
    "    elif c.isalpha():\n",
    "        letter+=1\n",
    "    else:\n",
    "        pass\n",
    "print('letter: ',letter)\n",
    "print('digits: ',digits)\n"
   ]
  },
  {
   "cell_type": "markdown",
   "id": "24682587",
   "metadata": {},
   "source": [
    "### Question 6:\n",
    "    \n",
    "A website requires the users to input username and password to register. Write a program to\n",
    "check the validity of password input by users.\n",
    "\n",
    "Following are the criteria for checking the password:\n",
    "    \n",
    "1. At least 1 letter between [a-z]\n",
    "\n",
    "2. At least 1 number between [0-9]\n",
    "\n",
    "1. At least 1 letter between [A-Z]\n",
    "\n",
    "3. At least 1 character from [$#@]\n",
    "                              \n",
    "4. Minimum length of transaction password: 6\n",
    "                              \n",
    "5. Maximum length of transaction password: 12\n",
    "                              \n",
    "Your program should accept a sequence of comma separated passwords and will check them\n",
    "according to the above criteria. Passwords that match the criteria are to be printed, each\n",
    "separated by a comma."
   ]
  },
  {
   "cell_type": "code",
   "execution_count": 20,
   "id": "5aa14a6d",
   "metadata": {},
   "outputs": [],
   "source": [
    "import re"
   ]
  },
  {
   "cell_type": "code",
   "execution_count": 22,
   "id": "8a7ca7ce",
   "metadata": {},
   "outputs": [
    {
     "name": "stdout",
     "output_type": "stream",
     "text": [
      "enter your password: sreenu@123\n",
      "invaild password\n"
     ]
    }
   ],
   "source": [
    "password=input('enter your password: ')\n",
    "\n",
    "x=True\n",
    "while x:\n",
    "    if (len(password)<6 or len(password)>12):\n",
    "        break\n",
    "    elif not re.search('[a-z]',password):\n",
    "        break\n",
    "    elif not re.search('[A-Z]',password):\n",
    "        break\n",
    "    elif not re.search('[0-9]',password):\n",
    "        break\n",
    "    elif not re.search('[$#@]',password):\n",
    "        break\n",
    "    elif re.search('\\s',password):\n",
    "        break\n",
    "    else:\n",
    "        print('vaild password')\n",
    "        x=False\n",
    "        break\n",
    "if x:\n",
    "    print('invaild password')\n",
    "        \n",
    "    "
   ]
  },
  {
   "cell_type": "code",
   "execution_count": 23,
   "id": "9e256ab9",
   "metadata": {},
   "outputs": [
    {
     "name": "stdout",
     "output_type": "stream",
     "text": [
      "enter your password: Sreenu@123\n",
      "vaild password\n"
     ]
    }
   ],
   "source": [
    "password=input('enter your password: ')\n",
    "\n",
    "x=True\n",
    "while x:\n",
    "    if (len(password)<6 or len(password)>12):\n",
    "        break\n",
    "    elif not re.search('[a-z]',password):\n",
    "        break\n",
    "    elif not re.search('[A-Z]',password):\n",
    "        break\n",
    "    elif not re.search('[0-9]',password):\n",
    "        break\n",
    "    elif not re.search('[$#@]',password):\n",
    "        break\n",
    "    elif re.search('\\s',password):\n",
    "        break\n",
    "    else:\n",
    "        print('vaild password')\n",
    "        x=False\n",
    "        break\n",
    "if x:\n",
    "    print('invaild password')"
   ]
  },
  {
   "cell_type": "code",
   "execution_count": null,
   "id": "b1192aae",
   "metadata": {},
   "outputs": [],
   "source": []
  }
 ],
 "metadata": {
  "kernelspec": {
   "display_name": "Python 3 (ipykernel)",
   "language": "python",
   "name": "python3"
  },
  "language_info": {
   "codemirror_mode": {
    "name": "ipython",
    "version": 3
   },
   "file_extension": ".py",
   "mimetype": "text/x-python",
   "name": "python",
   "nbconvert_exporter": "python",
   "pygments_lexer": "ipython3",
   "version": "3.9.13"
  }
 },
 "nbformat": 4,
 "nbformat_minor": 5
}
