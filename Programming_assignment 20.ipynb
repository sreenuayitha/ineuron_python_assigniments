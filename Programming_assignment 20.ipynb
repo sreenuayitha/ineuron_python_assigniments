{
 "cells": [
  {
   "cell_type": "markdown",
   "id": "b6893ef8",
   "metadata": {},
   "source": [
    "### Question1\n",
    "#### Create a function that takes a list of strings and integers, and filters out the list so that it returns a list of integers only.\n",
    "Examples\n",
    "\n",
    "filter_list([1, 2, 3, &quot;a&quot;, &quot;b&quot;, 4]) ➞ [1, 2, 3, 4]\n",
    "\n",
    "filter_list([&quot;A&quot;, 0, &quot;Edabit&quot;, 1729, &quot;Python&quot;, &quot;1729&quot;]) ➞ [0, 1729]\n",
    "\n",
    "filter_list([&quot;Nothing&quot;, &quot;here&quot;]) ➞ []"
   ]
  },
  {
   "cell_type": "code",
   "execution_count": 6,
   "id": "3f6aa9c6",
   "metadata": {},
   "outputs": [
    {
     "name": "stdout",
     "output_type": "stream",
     "text": [
      "[1, 2, 3, 4]\n"
     ]
    }
   ],
   "source": [
    "def isint(n):\n",
    "    new_int=[]\n",
    "    for i in n:\n",
    "        if type(i)==int:\n",
    "            new_int.append(i)\n",
    "    return new_int\n",
    "n=[1, 2, 3, \"a\", \"b\", 4]\n",
    "print(isint(n))"
   ]
  },
  {
   "cell_type": "code",
   "execution_count": 7,
   "id": "9379216b",
   "metadata": {},
   "outputs": [
    {
     "name": "stdout",
     "output_type": "stream",
     "text": [
      "[0, 1729]\n"
     ]
    }
   ],
   "source": [
    "def isint(n):\n",
    "    new_int=[]\n",
    "    for i in n:\n",
    "        if type(i)==int:\n",
    "            new_int.append(i)\n",
    "    return new_int\n",
    "n=[\"A\", 0, \"Edabit\", 1729, \"Python\", \"1729\"]\n",
    "print(isint(n))"
   ]
  },
  {
   "cell_type": "code",
   "execution_count": 8,
   "id": "8ec9d9a0",
   "metadata": {},
   "outputs": [
    {
     "name": "stdout",
     "output_type": "stream",
     "text": [
      "[]\n"
     ]
    }
   ],
   "source": [
    "def isint(n):\n",
    "    new_int=[]\n",
    "    for i in n:\n",
    "        if type(i)==int:\n",
    "            new_int.append(i)\n",
    "    return new_int\n",
    "n=[\"Nothing\", \"here\"]\n",
    "print(isint(n))"
   ]
  },
  {
   "cell_type": "markdown",
   "id": "d3c54e6e",
   "metadata": {},
   "source": [
    "### Question2\n",
    "#### Given a list of numbers, create a function which returns the list but with each element&#39;s index in the list added to itself. This means you add 0 to the number at index 0, add 1 to the number at index 1, etc...\n",
    "Examples\n",
    "\n",
    "add_indexes([0, 0, 0, 0, 0]) ➞ [0, 1, 2, 3, 4]\n",
    "\n",
    "add_indexes([1, 2, 3, 4, 5]) ➞ [1, 3, 5, 7, 9]\n",
    "\n",
    "add_indexes([5, 4, 3, 2, 1]) ➞ [5, 5, 5, 5, 5]"
   ]
  },
  {
   "cell_type": "code",
   "execution_count": 10,
   "id": "8fd041d3",
   "metadata": {},
   "outputs": [
    {
     "name": "stdout",
     "output_type": "stream",
     "text": [
      "[0, 1, 2, 3, 4]\n"
     ]
    }
   ],
   "source": [
    "def add_indexes(lst):\n",
    "    ind = 0\n",
    "    index = []\n",
    "    for i in lst:\n",
    "        index.append(lst.index(i,ind) + i)\n",
    "        ind+=1\n",
    "    return index\n",
    "print(add_indexes([0,0,0,0,0]))"
   ]
  },
  {
   "cell_type": "code",
   "execution_count": 11,
   "id": "bf30dc90",
   "metadata": {},
   "outputs": [
    {
     "name": "stdout",
     "output_type": "stream",
     "text": [
      "[1, 3, 5, 7, 9]\n"
     ]
    }
   ],
   "source": [
    "def add_indexes(lst):\n",
    "    ind = 0\n",
    "    index = []\n",
    "    for i in lst:\n",
    "        index.append(lst.index(i,ind) + i)\n",
    "        ind+=1\n",
    "    return index\n",
    "print(add_indexes([1,2,3,4,5]))"
   ]
  },
  {
   "cell_type": "code",
   "execution_count": 12,
   "id": "1ce00c6d",
   "metadata": {},
   "outputs": [
    {
     "name": "stdout",
     "output_type": "stream",
     "text": [
      "[5, 5, 5, 5, 5]\n"
     ]
    }
   ],
   "source": [
    "def add_indexes(lst):\n",
    "    ind = 0\n",
    "    index = []\n",
    "    for i in lst:\n",
    "        index.append(lst.index(i,ind) + i)\n",
    "        ind+=1\n",
    "    return index\n",
    "print(add_indexes([5,4,3,2,1]))"
   ]
  },
  {
   "cell_type": "markdown",
   "id": "833034b9",
   "metadata": {},
   "source": [
    "### Question3\n",
    "#### Create a function that takes the height and radius of a cone as arguments and returns the volume of the cone rounded to the nearest hundredth. See the resources tab for the formula.\n",
    "Examples\n",
    "\n",
    "cone_volume(3, 2) ➞ 12.57\n",
    "\n",
    "cone_volume(15, 6) ➞ 565.49\n",
    "\n",
    "cone_volume(18, 0) ➞ 0"
   ]
  },
  {
   "cell_type": "code",
   "execution_count": 20,
   "id": "0a2a284f",
   "metadata": {},
   "outputs": [
    {
     "name": "stdout",
     "output_type": "stream",
     "text": [
      "enter raidus of cone: 2\n",
      "enter height of cone: 3\n",
      "12.57\n"
     ]
    }
   ],
   "source": [
    "import math\n",
    "\n",
    "pie=math.pi\n",
    "r=int(input('enter raidus of cone: '))\n",
    "h=int(input('enter height of cone: '))\n",
    "def volume(r,h):\n",
    "    vol=pie*(r*r)*(h/3)\n",
    "    return vol\n",
    "print(round(volume(r,h),2))"
   ]
  },
  {
   "cell_type": "code",
   "execution_count": 21,
   "id": "2630bf1b",
   "metadata": {},
   "outputs": [
    {
     "name": "stdout",
     "output_type": "stream",
     "text": [
      "enter raidus of cone: 6\n",
      "enter height of cone: 15\n",
      "565.49\n"
     ]
    }
   ],
   "source": [
    "import math\n",
    "\n",
    "pie=math.pi\n",
    "r=int(input('enter raidus of cone: '))\n",
    "h=int(input('enter height of cone: '))\n",
    "def volume(r,h):\n",
    "    vol=pie*(r*r)*(h/3)\n",
    "    return vol\n",
    "print(round(volume(r,h),2))"
   ]
  },
  {
   "cell_type": "code",
   "execution_count": 22,
   "id": "b5163b0e",
   "metadata": {},
   "outputs": [
    {
     "name": "stdout",
     "output_type": "stream",
     "text": [
      "enter raidus of cone: 18\n",
      "enter height of cone: 0\n",
      "0.0\n"
     ]
    }
   ],
   "source": [
    "import math\n",
    "\n",
    "pie=math.pi\n",
    "r=int(input('enter raidus of cone: '))\n",
    "h=int(input('enter height of cone: '))\n",
    "def volume(r,h):\n",
    "    vol=pie*(r*r)*(h/3)\n",
    "    return vol\n",
    "print(round(volume(r,h),2))"
   ]
  },
  {
   "cell_type": "markdown",
   "id": "f404752c",
   "metadata": {},
   "source": [
    "### Question4\n",
    "This Triangular Number Sequence is generated from a pattern of dots that form a triangle.\n",
    "\n",
    "The first 5 numbers of the sequence, or dots, are: 1, 3, 6, 10, 15\n",
    "\n",
    "This means that the first triangle has just one dot, the second one has three dots, the third one\n",
    "has 6 dots and so on.\n",
    "\n",
    "Write a function that gives the number of dots with its corresponding triangle number of the\n",
    "sequence.\n",
    "\n",
    "Examples\n",
    "\n",
    "triangle(1) ➞ 1\n",
    "\n",
    "triangle(6) ➞ 21\n",
    "\n",
    "triangle(215) ➞ 23220"
   ]
  },
  {
   "cell_type": "code",
   "execution_count": 24,
   "id": "c9f900a0",
   "metadata": {},
   "outputs": [
    {
     "name": "stdout",
     "output_type": "stream",
     "text": [
      "enter num triangles: 6\n",
      "21.0\n"
     ]
    }
   ],
   "source": [
    "def dots(n):\n",
    "    return n*(n+1)/2\n",
    "n=int(input('enter num triangles: '))\n",
    "print(dots(n))"
   ]
  },
  {
   "cell_type": "code",
   "execution_count": 25,
   "id": "a9d201b7",
   "metadata": {},
   "outputs": [
    {
     "name": "stdout",
     "output_type": "stream",
     "text": [
      "enter num triangles: 215\n",
      "23220.0\n"
     ]
    }
   ],
   "source": [
    "def dots(n):\n",
    "    return n*(n+1)/2\n",
    "n=int(input('enter num triangles: '))\n",
    "print(dots(n))"
   ]
  },
  {
   "cell_type": "code",
   "execution_count": 26,
   "id": "185aacb6",
   "metadata": {},
   "outputs": [
    {
     "name": "stdout",
     "output_type": "stream",
     "text": [
      "enter num triangles: 1\n",
      "1.0\n"
     ]
    }
   ],
   "source": [
    "def dots(n):\n",
    "    return n*(n+1)/2\n",
    "n=int(input('enter num triangles: '))\n",
    "print(dots(n))"
   ]
  },
  {
   "cell_type": "markdown",
   "id": "810b2fc9",
   "metadata": {},
   "source": [
    "### Question5\n",
    "#### Create a function that takes a list of numbers between 1 and 10 (excluding one number) and returns the missing number.\n",
    "Examples\n",
    "\n",
    "missing_num([1, 2, 3, 4, 6, 7, 8, 9, 10]) ➞ 5\n",
    "\n",
    "missing_num([7, 2, 3, 6, 5, 9, 1, 4, 8]) ➞ 10\n",
    "\n",
    "missing_num([10, 5, 1, 2, 4, 6, 8, 3, 9]) ➞ 7"
   ]
  },
  {
   "cell_type": "code",
   "execution_count": 30,
   "id": "39236612",
   "metadata": {},
   "outputs": [
    {
     "name": "stdout",
     "output_type": "stream",
     "text": [
      "the missing value is: 5\n"
     ]
    }
   ],
   "source": [
    "def missing(lst):\n",
    "    total=sum([x for x in range(11)])\n",
    "    sum_list=sum(lst)\n",
    "    return total-sum_list\n",
    "print('the missing value is:',missing([1,2,3,4,6,7,8,9,10]))"
   ]
  },
  {
   "cell_type": "code",
   "execution_count": 31,
   "id": "22e9f820",
   "metadata": {},
   "outputs": [
    {
     "name": "stdout",
     "output_type": "stream",
     "text": [
      "the missing value is: 10\n"
     ]
    }
   ],
   "source": [
    "def missing(lst):\n",
    "    total=sum([x for x in range(11)])\n",
    "    sum_list=sum(lst)\n",
    "    return total-sum_list\n",
    "print('the missing value is:',missing([7, 2, 3, 6, 5, 9, 1, 4, 8]))"
   ]
  },
  {
   "cell_type": "code",
   "execution_count": 32,
   "id": "0de5fe7a",
   "metadata": {},
   "outputs": [
    {
     "name": "stdout",
     "output_type": "stream",
     "text": [
      "the missing value is: 7\n"
     ]
    }
   ],
   "source": [
    "def missing(lst):\n",
    "    total=sum([x for x in range(11)])\n",
    "    sum_list=sum(lst)\n",
    "    return total-sum_list\n",
    "print('the missing value is:',missing([10, 5, 1, 2, 4, 6, 8, 3, 9]))"
   ]
  },
  {
   "cell_type": "code",
   "execution_count": null,
   "id": "3c50d59b",
   "metadata": {},
   "outputs": [],
   "source": []
  }
 ],
 "metadata": {
  "kernelspec": {
   "display_name": "Python 3 (ipykernel)",
   "language": "python",
   "name": "python3"
  },
  "language_info": {
   "codemirror_mode": {
    "name": "ipython",
    "version": 3
   },
   "file_extension": ".py",
   "mimetype": "text/x-python",
   "name": "python",
   "nbconvert_exporter": "python",
   "pygments_lexer": "ipython3",
   "version": "3.9.13"
  }
 },
 "nbformat": 4,
 "nbformat_minor": 5
}
