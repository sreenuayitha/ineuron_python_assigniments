{
 "cells": [
  {
   "cell_type": "markdown",
   "id": "2c7c790a",
   "metadata": {},
   "source": [
    "### 1. Write a Python program to Extract Unique values dictionary values?"
   ]
  },
  {
   "cell_type": "code",
   "execution_count": 1,
   "id": "db0879cc",
   "metadata": {},
   "outputs": [
    {
     "name": "stdout",
     "output_type": "stream",
     "text": [
      "The orignal dict: {'sree': [1, 2, 3, 4, 5], 'pras': [3, 4, 5, 6, 7], 'sri': [5, 6, 7, 8], 'venk': [6, 7, 8, 9]}\n",
      "The unqiue values in dict:  [1, 2, 3, 4, 5, 6, 7, 8, 9]\n"
     ]
    }
   ],
   "source": [
    "a={'sree':[1,2,3,4,5],\n",
    "  'pras':[3,4,5,6,7],\n",
    "  'sri':[5,6,7,8],\n",
    "  'venk':[6,7,8,9]}\n",
    "\n",
    "print('The orignal dict: '+str(a))\n",
    "\n",
    "res=list(sorted({ele for val in a.values() for ele in val}))\n",
    "print('The unqiue values in dict: ',res)\n"
   ]
  },
  {
   "cell_type": "markdown",
   "id": "5856be53",
   "metadata": {},
   "source": [
    "### 2. Write a Python program to find the sum of all items in a dictionary?"
   ]
  },
  {
   "cell_type": "code",
   "execution_count": 2,
   "id": "de5801e5",
   "metadata": {},
   "outputs": [
    {
     "name": "stdout",
     "output_type": "stream",
     "text": [
      "The original values in dict1:  {'a': 100, 'b': 200, 'c': 300, 'd': 400}\n",
      "\n",
      "The sum of all items in a dict1:  1000\n"
     ]
    }
   ],
   "source": [
    "dict1={'a':100,'b':200,'c':300,'d':400}\n",
    "sum=0\n",
    "print('The original values in dict1: ',dict1)\n",
    "for i in dict1.values():\n",
    "    sum=sum+i\n",
    " \n",
    "print(\"\\nThe sum of all items in a dict1: \",sum)\n"
   ]
  },
  {
   "cell_type": "markdown",
   "id": "f91b2a0c",
   "metadata": {},
   "source": [
    "### 3. Write a Python program to Merging two Dictionaries?"
   ]
  },
  {
   "cell_type": "code",
   "execution_count": 3,
   "id": "b1c674cc",
   "metadata": {},
   "outputs": [
    {
     "name": "stdout",
     "output_type": "stream",
     "text": [
      "the dict1: {'a': 1, 'b': 2, 'c': 3}\n",
      "The dict2:  {'c': 4, 'd': 5, 'e': 6}\n",
      "The final merging dicts:  {'a': 1, 'b': 2, 'c': 4, 'd': 5, 'e': 6}\n"
     ]
    }
   ],
   "source": [
    "def merge(dict1,dict2):\n",
    "    res= {**dict1,**dict2}\n",
    "    return res\n",
    "\n",
    "dict1={'a':1,'b':2,'c':3}\n",
    "dict2={'c':4,'d':5,'e':6}\n",
    "print('the dict1:',dict1)\n",
    "print('The dict2: ',dict2)\n",
    "dict3=merge(dict1,dict2)\n",
    "print(\"The final merging dicts: \",dict3)"
   ]
  },
  {
   "cell_type": "markdown",
   "id": "76bdb143",
   "metadata": {},
   "source": [
    "### 4. Write a Python program to convert key-values list to flat dictionary?"
   ]
  },
  {
   "cell_type": "code",
   "execution_count": 5,
   "id": "b1041914",
   "metadata": {},
   "outputs": [],
   "source": [
    "from itertools import product"
   ]
  },
  {
   "cell_type": "code",
   "execution_count": 8,
   "id": "7cd4d3e2",
   "metadata": {},
   "outputs": [
    {
     "name": "stdout",
     "output_type": "stream",
     "text": [
      "The original dict:  {'name': ['jan', 'feb', 'march'], 'num': [1, 2, 3]}\n",
      "\n",
      "The final converted dict: {1: 'jan', 2: 'feb', 3: 'march'}\n"
     ]
    }
   ],
   "source": [
    "my_dict={'name':['jan','feb','march'],\n",
    "        'num':[1,2,3]}\n",
    "\n",
    "print('The original dict: ',my_dict)\n",
    "\n",
    "res=dict(zip(my_dict['num'],my_dict['name']))\n",
    "print('\\nThe final converted dict:',res)"
   ]
  },
  {
   "cell_type": "markdown",
   "id": "f9df1ea2",
   "metadata": {},
   "source": [
    "### 5. Write a Python program to insertion at the beginning in OrderedDict?"
   ]
  },
  {
   "cell_type": "code",
   "execution_count": 9,
   "id": "c994acbd",
   "metadata": {},
   "outputs": [],
   "source": [
    "from collections import OrderedDict"
   ]
  },
  {
   "cell_type": "code",
   "execution_count": 11,
   "id": "c8b520a7",
   "metadata": {},
   "outputs": [
    {
     "name": "stdout",
     "output_type": "stream",
     "text": [
      "OrderedDict([('jan', '1'), ('feb', '2'), ('mar', '3')])\n"
     ]
    }
   ],
   "source": [
    "dictorder=OrderedDict([('jan','1'),('feb','2')])\n",
    "\n",
    "dictorder.update({'mar':'3'})\n",
    "dictorder.move_to_end('mar',last=True)\n",
    "\n",
    "print(dictorder)"
   ]
  },
  {
   "cell_type": "markdown",
   "id": "12001b66",
   "metadata": {},
   "source": [
    "### 6. Write a Python program to check order of character in string using OrderedDict()?"
   ]
  },
  {
   "cell_type": "code",
   "execution_count": 12,
   "id": "af870fd1",
   "metadata": {},
   "outputs": [
    {
     "name": "stdout",
     "output_type": "stream",
     "text": [
      "enter string : sreenu\n",
      "Enter Pattern : re\n",
      "OrderedDict([('s', None), ('r', None), ('e', None), ('n', None), ('u', None)])\n",
      "Pattern matched\n"
     ]
    }
   ],
   "source": [
    "from collections import OrderedDict \n",
    "  \n",
    "def checkOrderofString(str, pattern): \n",
    "      \n",
    "    # create empty OrderedDict \n",
    "    dict = OrderedDict.fromkeys(str) \n",
    "    print(dict)   \n",
    "    ptrlen = 0\n",
    "    for key,value in dict.items(): \n",
    "        \n",
    "        if (key == pattern[ptrlen]): \n",
    "            ptrlen = ptrlen + 1\n",
    "          \n",
    "        # check if we have traverse complete pattern string \n",
    "        if (ptrlen == (len(pattern))):            \n",
    "            return 'true'\n",
    "  \n",
    "    # if we come out from for loop that means order was mismatched \n",
    "    return 'false'\n",
    "  \n",
    "\n",
    "string = input(\"enter string : \")\n",
    "pattern = input(\"Enter Pattern : \")\n",
    "if checkOrderofString(string,pattern):\n",
    "    print(\"Pattern matched\")\n",
    "else:\n",
    "    print(\"Pattern not matched\")"
   ]
  },
  {
   "cell_type": "code",
   "execution_count": 13,
   "id": "0058f6d2",
   "metadata": {},
   "outputs": [
    {
     "name": "stdout",
     "output_type": "stream",
     "text": [
      "enter string : sreenu\n",
      "Enter Pattern : er\n",
      "OrderedDict([('s', None), ('r', None), ('e', None), ('n', None), ('u', None)])\n",
      "Pattern matched\n"
     ]
    }
   ],
   "source": [
    "from collections import OrderedDict \n",
    "  \n",
    "def checkOrderofString(str, pattern): \n",
    "      \n",
    "    # create empty OrderedDict \n",
    "    dict = OrderedDict.fromkeys(str) \n",
    "    print(dict)   \n",
    "    ptrlen = 0\n",
    "    for key,value in dict.items(): \n",
    "        \n",
    "        if (key == pattern[ptrlen]): \n",
    "            ptrlen = ptrlen + 1\n",
    "          \n",
    "        # check if we have traverse complete pattern string \n",
    "        if (ptrlen == (len(pattern))):            \n",
    "            return 'true'\n",
    "  \n",
    "    # if we come out from for loop that means order was mismatched \n",
    "    return 'false'\n",
    "  \n",
    "\n",
    "string = input(\"enter string : \")\n",
    "pattern = input(\"Enter Pattern : \")\n",
    "if checkOrderofString(string,pattern):\n",
    "    print(\"Pattern matched\")\n",
    "else:\n",
    "    print(\"Pattern not matched\")"
   ]
  },
  {
   "cell_type": "markdown",
   "id": "4f063b80",
   "metadata": {},
   "source": [
    "### 7. Write a Python program to sort Python Dictionaries by Key or Value?"
   ]
  },
  {
   "cell_type": "code",
   "execution_count": 14,
   "id": "1044a221",
   "metadata": {},
   "outputs": [
    {
     "name": "stdout",
     "output_type": "stream",
     "text": [
      "[1, 2, 3, 4, 5, 6]\n",
      "[(1, 2), (2, 1), (3, 4), (4, 3), (5, 6), (6, 5)]\n"
     ]
    }
   ],
   "source": [
    "a = {1:2 ,2:1 ,4:3 ,3:4 ,6:5 ,5:6 }\n",
    "#this will print a sorted list of the keys\n",
    "print(sorted(a.keys()))\n",
    "#this will print the sorted list with items.\n",
    "print(sorted(a.items()))"
   ]
  },
  {
   "cell_type": "code",
   "execution_count": 15,
   "id": "4d7b49dc",
   "metadata": {},
   "outputs": [
    {
     "name": "stdout",
     "output_type": "stream",
     "text": [
      "[1, 2, 3, 4, 5, 6]\n"
     ]
    }
   ],
   "source": [
    "a = {1:2 ,2:1 ,4:3 ,3:4 ,6:5 ,5:6 }\n",
    "print(sorted(a.values()))\n",
    "#this will print a sorted list of values."
   ]
  },
  {
   "cell_type": "code",
   "execution_count": null,
   "id": "ade2546a",
   "metadata": {},
   "outputs": [],
   "source": []
  }
 ],
 "metadata": {
  "kernelspec": {
   "display_name": "Python 3 (ipykernel)",
   "language": "python",
   "name": "python3"
  },
  "language_info": {
   "codemirror_mode": {
    "name": "ipython",
    "version": 3
   },
   "file_extension": ".py",
   "mimetype": "text/x-python",
   "name": "python",
   "nbconvert_exporter": "python",
   "pygments_lexer": "ipython3",
   "version": "3.9.13"
  }
 },
 "nbformat": 4,
 "nbformat_minor": 5
}
