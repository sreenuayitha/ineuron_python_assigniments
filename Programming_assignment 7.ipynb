{
 "cells": [
  {
   "cell_type": "markdown",
   "id": "88ef9c1c",
   "metadata": {},
   "source": [
    "### 1. Write a Python Program to find sum of array?"
   ]
  },
  {
   "cell_type": "code",
   "execution_count": 6,
   "id": "799a5d85",
   "metadata": {},
   "outputs": [
    {
     "name": "stdout",
     "output_type": "stream",
     "text": [
      "the sum of array: 10\n"
     ]
    }
   ],
   "source": [
    "def sum_arr(n):\n",
    "    sum=0\n",
    "    for i in n:\n",
    "        sum=sum+i\n",
    "    return(sum)\n",
    "n=[]\n",
    "n=[1,2,3,4]\n",
    "print('the sum of array:',sum_arr(n))\n"
   ]
  },
  {
   "cell_type": "markdown",
   "id": "60dc3cde",
   "metadata": {},
   "source": [
    "### 2. Write a Python Program to find largest element in an array?"
   ]
  },
  {
   "cell_type": "code",
   "execution_count": 8,
   "id": "49d86cc8",
   "metadata": {},
   "outputs": [
    {
     "name": "stdout",
     "output_type": "stream",
     "text": [
      "600\n"
     ]
    }
   ],
   "source": [
    "#solution 1\n",
    "l1=[1,2,3,5,7,8,9,100,200,250,600]\n",
    "print(max(l1))"
   ]
  },
  {
   "cell_type": "code",
   "execution_count": 22,
   "id": "381852f9",
   "metadata": {},
   "outputs": [
    {
     "name": "stdout",
     "output_type": "stream",
     "text": [
      "Largest element in the array [1, 2, 3, 5, 7, 8, 9, 100, 200, 250, 600] is 600 \n"
     ]
    }
   ],
   "source": [
    "#solution 2\n",
    "l1=[1,2,3,5,7,8,9,100,200,250,600]\n",
    "def max_num(l1,n):\n",
    "    max=l1[0]\n",
    "    for i in range(1,n):\n",
    "        if max < l1[i]:\n",
    "            max =l1[i]\n",
    "    return max\n",
    "\n",
    "n=len(l1)\n",
    "ans=max_num(l1,n)\n",
    "\n",
    "print(\"Largest element in the array {} is {} \".format(l1,ans))"
   ]
  },
  {
   "cell_type": "markdown",
   "id": "ec28ff95",
   "metadata": {},
   "source": [
    "### 3. Write a Python Program for array rotation?"
   ]
  },
  {
   "cell_type": "code",
   "execution_count": 25,
   "id": "4dd622be",
   "metadata": {},
   "outputs": [
    {
     "name": "stdout",
     "output_type": "stream",
     "text": [
      "Enter the lenth of your list : 9\n",
      "1\n",
      "2\n",
      "3\n",
      "4\n",
      "5\n",
      "6\n",
      "7\n",
      "8\n",
      "9\n",
      "The List is  [1, 2, 3, 4, 5, 6, 7, 8, 9]\n",
      "Enter Rotation Right/Left : Right\n",
      "Enter the number of elements to rotate < : 4\n",
      "After right rotation :  [6, 7, 8, 9, 1, 2, 3, 4, 5]\n"
     ]
    }
   ],
   "source": [
    "n = int(input(\"Enter the lenth of your list : \"))\n",
    "lst = []\n",
    "\n",
    "for i in range(n):\n",
    "    lst.append(int(input()))\n",
    "print(\"The List is \",lst)\n",
    "rotation = input(\"Enter Rotation Right/Left : \")\n",
    "nele = int(input(\"Enter the number of elements to rotate < : \"))\n",
    "if nele > n:\n",
    "    print(\"can not rotate as elements to rotate is larger then list lengh\")\n",
    "else:\n",
    "    rlst = []\n",
    "    if rotation.upper() == \"RIGHT\":\n",
    "        rlst[:] = lst[-nele:] + lst[:(n-nele)]\n",
    "        print(\"After right rotation : \",rlst)\n",
    "    elif rotation.upper() == \"LEFT\":\n",
    "        rlst[:] = lst[nele:n] + lst[:nele] \n",
    "        print(\"After Left rotation : \",rlst)\n",
    "    else:\n",
    "        print(\"Invalid Entry\")"
   ]
  },
  {
   "cell_type": "code",
   "execution_count": 26,
   "id": "8f5d20be",
   "metadata": {},
   "outputs": [
    {
     "name": "stdout",
     "output_type": "stream",
     "text": [
      "Enter the lenth of your list : 9\n",
      "1\n",
      "2\n",
      "3\n",
      "4\n",
      "5\n",
      "6\n",
      "7\n",
      "8\n",
      "9\n",
      "The List is  [1, 2, 3, 4, 5, 6, 7, 8, 9]\n",
      "Enter Rotation Right/Left : Left\n",
      "Enter the number of elements to rotate < : 3\n",
      "After Left rotation :  [4, 5, 6, 7, 8, 9, 1, 2, 3]\n"
     ]
    }
   ],
   "source": [
    "n = int(input(\"Enter the lenth of your list : \"))\n",
    "lst = []\n",
    "\n",
    "for i in range(n):\n",
    "    lst.append(int(input()))\n",
    "print(\"The List is \",lst)\n",
    "rotation = input(\"Enter Rotation Right/Left : \")\n",
    "nele = int(input(\"Enter the number of elements to rotate < : \"))\n",
    "if nele > n:\n",
    "    print(\"can not rotate as elements to rotate is larger then list lengh\")\n",
    "else:\n",
    "    rlst = []\n",
    "    if rotation.upper() == \"RIGHT\":\n",
    "        rlst[:] = lst[-nele:] + lst[:(n-nele)]\n",
    "        print(\"After right rotation : \",rlst)\n",
    "    elif rotation.upper() == \"LEFT\":\n",
    "        rlst[:] = lst[nele:n] + lst[:nele] \n",
    "        print(\"After Left rotation : \",rlst)\n",
    "    else:\n",
    "        print(\"Invalid Entry\")"
   ]
  },
  {
   "cell_type": "markdown",
   "id": "e013ae41",
   "metadata": {},
   "source": [
    "### 4. Write a Python Program to Split the array and add the first part to the end?"
   ]
  },
  {
   "cell_type": "code",
   "execution_count": 30,
   "id": "efe5abd9",
   "metadata": {},
   "outputs": [
    {
     "name": "stdout",
     "output_type": "stream",
     "text": [
      "Enter the lenth of your list : 6\n",
      "1\n",
      "2\n",
      "3\n",
      "4\n",
      "5\n",
      "6\n",
      "The list of array : [1, 2, 3, 4, 5, 6]\n",
      "Enter the number of elements can spilt <:3\n",
      "The split list is : [1, 2, 3]\n",
      "The list after spilt and add :  [4, 5, 6, 1, 2, 3]\n"
     ]
    }
   ],
   "source": [
    "n = int(input(\"Enter the lenth of your list : \"))\n",
    "lst = []\n",
    "\n",
    "for i in range(n):\n",
    "    lst.append(int(input()))\n",
    "print('The list of array :',lst)\n",
    "\n",
    "spilt=int(input('Enter the number of elements can spilt <:'))\n",
    "if n < spilt:\n",
    "    print(\"can not split as elements to split is larger then list lengh\")\n",
    "else:\n",
    "    print(\"The split list is :\",lst[:spilt])\n",
    "    rlst[:] = lst[spilt:n] + lst[:spilt]\n",
    "    print('The list after spilt and add : ',rlst)"
   ]
  },
  {
   "cell_type": "markdown",
   "id": "4cf1e4d7",
   "metadata": {},
   "source": [
    "### 5. Write a Python Program to check if given array is Monotonic?"
   ]
  },
  {
   "cell_type": "code",
   "execution_count": 31,
   "id": "e8cafd13",
   "metadata": {},
   "outputs": [
    {
     "name": "stdout",
     "output_type": "stream",
     "text": [
      "Enter the length of your list: 6\n",
      "2\n",
      "5\n",
      "6\n",
      "4\n",
      "2\n",
      "3\n",
      "The list of array:  [2, 5, 6, 4, 2, 3]\n",
      "Not Monotonic\n"
     ]
    }
   ],
   "source": [
    "n=int(input('Enter the length of your list: '))\n",
    "lst=[]\n",
    "\n",
    "for i in range(n):\n",
    "    lst.append(int(input()))\n",
    "print('The list of array: ',lst)\n",
    "\n",
    "if all((lst[i] <= lst[i+1] for i in range(n-1)) or (lst[i] >= lst[i+1] for i in range(n-1))):\n",
    "    print(\"Monotonic\")\n",
    "else:\n",
    "    print(\"Not Monotonic\")"
   ]
  },
  {
   "cell_type": "code",
   "execution_count": 32,
   "id": "eeb1ca67",
   "metadata": {},
   "outputs": [
    {
     "name": "stdout",
     "output_type": "stream",
     "text": [
      "Enter the length of your list: 6\n",
      "1\n",
      "2\n",
      "3\n",
      "4\n",
      "5\n",
      "6\n",
      "The list of array:  [1, 2, 3, 4, 5, 6]\n",
      "Monotonic\n"
     ]
    }
   ],
   "source": [
    "n=int(input('Enter the length of your list: '))\n",
    "lst=[]\n",
    "\n",
    "for i in range(n):\n",
    "    lst.append(int(input()))\n",
    "print('The list of array: ',lst)\n",
    "\n",
    "if all((lst[i] <= lst[i+1] for i in range(n-1)) or (lst[i] >= lst[i+1] for i in range(n-1))):\n",
    "    print(\"Monotonic\")\n",
    "else:\n",
    "    print(\"Not Monotonic\")"
   ]
  },
  {
   "cell_type": "code",
   "execution_count": null,
   "id": "e46b79b3",
   "metadata": {},
   "outputs": [],
   "source": []
  }
 ],
 "metadata": {
  "kernelspec": {
   "display_name": "Python 3 (ipykernel)",
   "language": "python",
   "name": "python3"
  },
  "language_info": {
   "codemirror_mode": {
    "name": "ipython",
    "version": 3
   },
   "file_extension": ".py",
   "mimetype": "text/x-python",
   "name": "python",
   "nbconvert_exporter": "python",
   "pygments_lexer": "ipython3",
   "version": "3.9.13"
  }
 },
 "nbformat": 4,
 "nbformat_minor": 5
}
