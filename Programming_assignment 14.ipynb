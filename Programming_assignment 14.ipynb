{
 "cells": [
  {
   "cell_type": "markdown",
   "id": "d3109d22",
   "metadata": {},
   "source": [
    "### Define a class with a generator which can iterate the numbers, which are divisible by 7, between a given range 0 and n."
   ]
  },
  {
   "cell_type": "code",
   "execution_count": 12,
   "id": "558f56dc",
   "metadata": {},
   "outputs": [
    {
     "name": "stdout",
     "output_type": "stream",
     "text": [
      "enter n value: 50\n",
      "0\n",
      "7\n",
      "14\n",
      "21\n",
      "28\n",
      "35\n",
      "42\n",
      "49\n"
     ]
    }
   ],
   "source": [
    "def division(n):\n",
    "    i=0\n",
    "    while i<n:\n",
    "        j=i\n",
    "        i+=1\n",
    "        if j%7==0:\n",
    "            yield j\n",
    "n=int(input('enter n value: '))\n",
    "for i in division(n):\n",
    "    print(i)"
   ]
  },
  {
   "cell_type": "markdown",
   "id": "7bbf355d",
   "metadata": {},
   "source": [
    "### Question 2:\n"
   ]
  },
  {
   "cell_type": "markdown",
   "id": "e2d35974",
   "metadata": {},
   "source": [
    "#### Write a program to compute the frequency of the words from the input. The output should output after sorting the key alphanumerically.\n",
    "\n",
    "Suppose the following input is supplied to the program:\n",
    "\n",
    "New to Python or choosing between Python 2 and Python 3? Read Python 2 or Python 3.\n",
    "\n",
    "Then, the output should be:\n",
    "\n",
    "2:2\n",
    "\n",
    "3.:1\n",
    "\n",
    "3?:1\n",
    "\n",
    "New:1\n",
    "\n",
    "Python:5\n",
    "\n",
    "Read:1\n",
    "\n",
    "and:1\n",
    "\n",
    "between:1\n",
    "\n",
    "choosing:1\n",
    "\n",
    "or:2\n",
    "\n",
    "to:1"
   ]
  },
  {
   "cell_type": "code",
   "execution_count": 29,
   "id": "95b361ba",
   "metadata": {},
   "outputs": [
    {
     "name": "stdout",
     "output_type": "stream",
     "text": [
      "enter string: sreenu python Python hello fine\n",
      "Python:1\n",
      "fine:1\n",
      "hello:1\n",
      "python:1\n",
      "sreenu:1\n"
     ]
    }
   ],
   "source": [
    "string=input('enter string: ').split()\n",
    "var=sorted(set(string))\n",
    "\n",
    "for i in var:\n",
    "    print('{0}:{1}'.format(i,var.count(i)))"
   ]
  },
  {
   "cell_type": "code",
   "execution_count": 14,
   "id": "6b03a41d",
   "metadata": {},
   "outputs": [
    {
     "name": "stdout",
     "output_type": "stream",
     "text": [
      "enter string: between\n",
      "between:1\n"
     ]
    }
   ],
   "source": [
    "string=input('enter string: ').split()\n",
    "var=sorted(set(string))\n",
    "\n",
    "for i in var:\n",
    "    print('{0}:{1}'.format(i,string.count(i)))"
   ]
  },
  {
   "cell_type": "code",
   "execution_count": 17,
   "id": "504b260f",
   "metadata": {},
   "outputs": [
    {
     "name": "stdout",
     "output_type": "stream",
     "text": [
      "enter string: 2\n",
      "2:1\n"
     ]
    }
   ],
   "source": [
    "string=input('enter string: ').split()\n",
    "var=sorted(set(string))\n",
    "\n",
    "for i in var:\n",
    "    print(\"{0}:{1}\".format(i,string.count(i)))"
   ]
  },
  {
   "cell_type": "markdown",
   "id": "2112c5df",
   "metadata": {},
   "source": [
    "### Question 3:"
   ]
  },
  {
   "cell_type": "markdown",
   "id": "b01f3e88",
   "metadata": {},
   "source": [
    "### Define a class Person and its two child classes: Male and Female. All classes have a method &quot;getGender&quot; which can print &quot;Male&quot; for Male class and &quot;Female&quot; for Female class."
   ]
  },
  {
   "cell_type": "code",
   "execution_count": 33,
   "id": "7ce779db",
   "metadata": {},
   "outputs": [
    {
     "name": "stdout",
     "output_type": "stream",
     "text": [
      "male\n",
      "female\n"
     ]
    }
   ],
   "source": [
    "class person:\n",
    "    def getgender():\n",
    "        return 'unkown'\n",
    "\n",
    "class male:\n",
    "    def getgender(person):\n",
    "        return 'male'\n",
    "\n",
    "class female:\n",
    "    def getgender(person):\n",
    "        return 'female'\n",
    "objmale=male()\n",
    "objfemale=female()\n",
    "\n",
    "print(objmale.getgender())\n",
    "print(objfemale.getgender())"
   ]
  },
  {
   "cell_type": "markdown",
   "id": "35039402",
   "metadata": {},
   "source": [
    "### Question 4:\n",
    "Please write a program to generate all sentences where subject is in [&quot;I&quot;, &quot;You&quot;] and\n",
    "verb is in [&quot;Play&quot;, &quot;Love&quot;] and the object is in [&quot;Hockey&quot;,&quot;Football&quot;]."
   ]
  },
  {
   "cell_type": "code",
   "execution_count": 35,
   "id": "78436c5a",
   "metadata": {},
   "outputs": [
    {
     "name": "stdout",
     "output_type": "stream",
     "text": [
      "I Play Hockey\n",
      "I Play Football\n",
      "I Love Hockey\n",
      "I Love Football\n",
      "You Play Hockey\n",
      "You Play Football\n",
      "You Love Hockey\n",
      "You Love Football\n"
     ]
    }
   ],
   "source": [
    "subject=[\"I\",\"You\"]\n",
    "verb=[\"Play\",\"Love\"]\n",
    "object=[\"Hockey\",\"Football\"]\n",
    "\n",
    "senatance=[(sub+' '+ver+' '+obj)for sub in subject for ver in verb for obj in object]\n",
    "\n",
    "for z in senatance:\n",
    "    print(z)"
   ]
  },
  {
   "cell_type": "markdown",
   "id": "37308baa",
   "metadata": {},
   "source": [
    "### Question 5:\n",
    "Please write a program to compress and decompress the string &quot;hello world!hello\n",
    "world!hello world!hello world!&quot;."
   ]
  },
  {
   "cell_type": "code",
   "execution_count": 37,
   "id": "3802687d",
   "metadata": {},
   "outputs": [
    {
     "name": "stdout",
     "output_type": "stream",
     "text": [
      "b'x\\x9c\\xcbH\\xcd\\xc9\\xc9W(\\xcf/\\xcaIQ\\xcc \\x82\\r\\x00\\xbd[\\x11\\xf5'\n",
      "b'hello world!hello world!hello world!hello world!'\n"
     ]
    }
   ],
   "source": [
    "import zlib\n",
    "\n",
    "s= \"hello world!hello world!hello world!hello world!\"\n",
    "\n",
    "y=bytes(s,'utf-8')\n",
    "\n",
    "x=zlib.compress(y)\n",
    "print(x)\n",
    "print(zlib.decompress(x))"
   ]
  },
  {
   "cell_type": "markdown",
   "id": "bbd828df",
   "metadata": {},
   "source": [
    "### Question 6:\n",
    "Please write a binary search function which searches an item in a sorted list. The\n",
    "function should return the index of element to be searched in the list."
   ]
  },
  {
   "cell_type": "code",
   "execution_count": 38,
   "id": "88ce308c",
   "metadata": {},
   "outputs": [
    {
     "name": "stdout",
     "output_type": "stream",
     "text": [
      "First occurrence of 28 is present at 4\n"
     ]
    }
   ],
   "source": [
    "from bisect import bisect_left\n",
    "  \n",
    "def BinarySearch(a, x):\n",
    "    i = bisect_left(a, x)\n",
    "    if i != len(a) and a[i] == x:\n",
    "        return i\n",
    "    else:\n",
    "        return -1 \n",
    "\n",
    "a = [11, 12, 14, 14, 28,28]\n",
    "x = int(28)\n",
    "res = BinarySearch(a, x)\n",
    "if res == -1:\n",
    "    print(x, \"is absent\")\n",
    "else:\n",
    "    print(\"First occurrence of\", x, \"is present at\", res)"
   ]
  },
  {
   "cell_type": "code",
   "execution_count": null,
   "id": "fc314564",
   "metadata": {},
   "outputs": [],
   "source": []
  }
 ],
 "metadata": {
  "kernelspec": {
   "display_name": "Python 3 (ipykernel)",
   "language": "python",
   "name": "python3"
  },
  "language_info": {
   "codemirror_mode": {
    "name": "ipython",
    "version": 3
   },
   "file_extension": ".py",
   "mimetype": "text/x-python",
   "name": "python",
   "nbconvert_exporter": "python",
   "pygments_lexer": "ipython3",
   "version": "3.9.13"
  }
 },
 "nbformat": 4,
 "nbformat_minor": 5
}
